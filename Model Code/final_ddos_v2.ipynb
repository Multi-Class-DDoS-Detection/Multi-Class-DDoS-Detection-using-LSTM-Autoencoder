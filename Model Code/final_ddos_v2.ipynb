{
 "cells": [
  {
   "cell_type": "code",
   "execution_count": 1,
   "metadata": {
    "_cell_guid": "b1076dfc-b9ad-4769-8c92-a6c4dae69d19",
    "_uuid": "8f2839f25d086af736a60e9eeb907d3b93b6e0e5",
    "execution": {
     "iopub.execute_input": "2025-05-18T16:45:25.249818Z",
     "iopub.status.busy": "2025-05-18T16:45:25.249570Z",
     "iopub.status.idle": "2025-05-18T16:45:25.662878Z",
     "shell.execute_reply": "2025-05-18T16:45:25.662029Z",
     "shell.execute_reply.started": "2025-05-18T16:45:25.249793Z"
    },
    "trusted": true
   },
   "outputs": [
    {
     "name": "stdout",
     "output_type": "stream",
     "text": [
      "/kaggle/input/Syn-training.parquet\n",
      "/kaggle/input/UDPLag-testing.parquet\n",
      "/kaggle/input/NetBIOS-testing.parquet\n",
      "/kaggle/input/Portmap-training.parquet\n",
      "/kaggle/input/Syn-testing.parquet\n",
      "/kaggle/input/MSSQL-testing.parquet\n",
      "/kaggle/input/SNMP-testing.parquet\n",
      "/kaggle/input/UDPLag-training.parquet\n",
      "/kaggle/input/NTP-testing.parquet\n",
      "/kaggle/input/LDAP-testing.parquet\n",
      "/kaggle/input/UDP-training.parquet\n",
      "/kaggle/input/NetBIOS-training.parquet\n",
      "/kaggle/input/DNS-testing.parquet\n",
      "/kaggle/input/UDP-testing.parquet\n",
      "/kaggle/input/LDAP-training.parquet\n",
      "/kaggle/input/TFTP-testing.parquet\n",
      "/kaggle/input/MSSQL-training.parquet\n"
     ]
    }
   ],
   "source": [
    "# This Python 3 environment comes with many helpful analytics libraries installed\n",
    "# It is defined by the kaggle/python Docker image: https://github.com/kaggle/docker-python\n",
    "# For example, here's several helpful packages to load\n",
    "\n",
    "import numpy as np # linear algebra\n",
    "import pandas as pd # data processing, CSV file I/O (e.g. pd.read_csv)\n",
    "\n",
    "# Input data files are available in the read-only \"../input/\" directory\n",
    "# For example, running this (by clicking run or pressing Shift+Enter) will list all files under the input directory\n",
    "\n",
    "import os\n",
    "for dirname, _, filenames in os.walk('/kaggle/input'):\n",
    "    for filename in filenames:\n",
    "        print(os.path.join(dirname, filename))\n",
    "\n",
    "# You can write up to 20GB to the current directory (/kaggle/working/) that gets preserved as output when you create a version using \"Save & Run All\" \n",
    "# You can also write temporary files to /kaggle/temp/, but they won't be saved outside of the current session"
   ]
  },
  {
   "cell_type": "code",
   "execution_count": 2,
   "metadata": {
    "execution": {
     "iopub.execute_input": "2025-05-18T16:45:25.664420Z",
     "iopub.status.busy": "2025-05-18T16:45:25.663735Z",
     "iopub.status.idle": "2025-05-18T16:45:29.362425Z",
     "shell.execute_reply": "2025-05-18T16:45:29.361525Z",
     "shell.execute_reply.started": "2025-05-18T16:45:25.664393Z"
    },
    "trusted": true
   },
   "outputs": [
    {
     "name": "stderr",
     "output_type": "stream",
     "text": [
      "2025-05-18 16:45:26.642548: E external/local_xla/xla/stream_executor/cuda/cuda_fft.cc:477] Unable to register cuFFT factory: Attempting to register factory for plugin cuFFT when one has already been registered\n",
      "WARNING: All log messages before absl::InitializeLog() is called are written to STDERR\n",
      "E0000 00:00:1747586726.666222     125 cuda_dnn.cc:8310] Unable to register cuDNN factory: Attempting to register factory for plugin cuDNN when one has already been registered\n",
      "E0000 00:00:1747586726.673286     125 cuda_blas.cc:1418] Unable to register cuBLAS factory: Attempting to register factory for plugin cuBLAS when one has already been registered\n"
     ]
    }
   ],
   "source": [
    "import numpy as np # linear algebra\n",
    "import pandas as pd # data processing, CSV file I/O (e.g. pd.read_csv)\n",
    "import matplotlib.pyplot as plt\n",
    "import seaborn as sns\n",
    "import time\n",
    "import datetime as dt\n",
    "from sklearn.model_selection import train_test_split\n",
    "from sklearn.preprocessing import LabelEncoder, StandardScaler, MinMaxScaler\n",
    "from sklearn.metrics import accuracy_score, confusion_matrix, precision_score, recall_score, f1_score, roc_curve, auc, classification_report\n",
    "import tensorflow as tf\n",
    "from tensorflow.keras.models import Model, Sequential\n",
    "from tensorflow.keras.layers import Input, Dense, LSTM, RepeatVector, TimeDistributed, LeakyReLU, BatchNormalization, Dropout, Bidirectional, GRU, Flatten\n",
    "from tensorflow.keras.callbacks import EarlyStopping, ModelCheckpoint, ReduceLROnPlateau\n",
    "from tensorflow.keras import regularizers\n",
    "from tensorflow.keras.utils import to_categorical\n",
    "from tensorflow.keras.utils import plot_model\n",
    "\n",
    "import os"
   ]
  },
  {
   "cell_type": "code",
   "execution_count": 3,
   "metadata": {
    "execution": {
     "iopub.execute_input": "2025-05-18T16:45:29.363884Z",
     "iopub.status.busy": "2025-05-18T16:45:29.363414Z",
     "iopub.status.idle": "2025-05-18T16:45:29.367960Z",
     "shell.execute_reply": "2025-05-18T16:45:29.367152Z",
     "shell.execute_reply.started": "2025-05-18T16:45:29.363864Z"
    },
    "trusted": true
   },
   "outputs": [],
   "source": [
    "# Set random seeds for reproducibility\n",
    "np.random.seed(42)\n",
    "tf.random.set_seed(42)"
   ]
  },
  {
   "cell_type": "code",
   "execution_count": 4,
   "metadata": {
    "execution": {
     "iopub.execute_input": "2025-05-18T16:45:29.369202Z",
     "iopub.status.busy": "2025-05-18T16:45:29.368906Z",
     "iopub.status.idle": "2025-05-18T16:45:29.386931Z",
     "shell.execute_reply": "2025-05-18T16:45:29.386160Z",
     "shell.execute_reply.started": "2025-05-18T16:45:29.369172Z"
    },
    "trusted": true
   },
   "outputs": [],
   "source": [
    "dataset_paths = {\n",
    "    \"dns_testing\": \"/kaggle/input/DNS-testing.parquet\",\n",
    "    \"ldap_testing\": \"/kaggle/input/LDAP-testing.parquet\",\n",
    "    \"ldap_training\": \"/kaggle/input/LDAP-training.parquet\",\n",
    "    \"mssql_testing\": \"/kaggle/input/MSSQL-testing.parquet\",\n",
    "    \"mssql_training\": \"/kaggle/input/MSSQL-training.parquet\",\n",
    "    \"ntp_testing\": \"/kaggle/input/NTP-testing.parquet\",\n",
    "    \"netbios_training\": \"/kaggle/input/NetBIOS-training.parquet\",\n",
    "    \"netbios_testing\": \"/kaggle/input/NetBIOS-testing.parquet\",\n",
    "    \"portmap_training\": \"/kaggle/input/Portmap-training.parquet\",\n",
    "    \"snmp_testing\": \"/kaggle/input/SNMP-testing.parquet\",\n",
    "    \"syn_testing\": \"/kaggle/input/Syn-testing.parquet\",\n",
    "    \"syn_training\": \"/kaggle/input/Syn-training.parquet\",\n",
    "    \"tftp_testing\": \"/kaggle/input/TFTP-testing.parquet\",\n",
    "    \"udp_testing\": \"/kaggle/input/UDP-testing.parquet\",\n",
    "    \"udp_training\": \"/kaggle/input/UDP-training.parquet\",\n",
    "    \"udplag_testing\": \"/kaggle/input/UDPLag-testing.parquet\",\n",
    "    \"udplag_training\": \"/kaggle/input/UDPLag-training.parquet\"\n",
    "}"
   ]
  },
  {
   "cell_type": "code",
   "execution_count": 5,
   "metadata": {
    "execution": {
     "iopub.execute_input": "2025-05-18T16:45:29.388031Z",
     "iopub.status.busy": "2025-05-18T16:45:29.387765Z",
     "iopub.status.idle": "2025-05-18T16:45:29.413240Z",
     "shell.execute_reply": "2025-05-18T16:45:29.412504Z",
     "shell.execute_reply.started": "2025-05-18T16:45:29.388015Z"
    },
    "trusted": true
   },
   "outputs": [
    {
     "name": "stdout",
     "output_type": "stream",
     "text": [
      "/kaggle/input/Syn-training.parquet\n",
      "/kaggle/input/UDPLag-testing.parquet\n",
      "/kaggle/input/NetBIOS-testing.parquet\n",
      "/kaggle/input/Portmap-training.parquet\n",
      "/kaggle/input/Syn-testing.parquet\n",
      "/kaggle/input/MSSQL-testing.parquet\n",
      "/kaggle/input/SNMP-testing.parquet\n",
      "/kaggle/input/UDPLag-training.parquet\n",
      "/kaggle/input/NTP-testing.parquet\n",
      "/kaggle/input/LDAP-testing.parquet\n",
      "/kaggle/input/UDP-training.parquet\n",
      "/kaggle/input/NetBIOS-training.parquet\n",
      "/kaggle/input/DNS-testing.parquet\n",
      "/kaggle/input/UDP-testing.parquet\n",
      "/kaggle/input/LDAP-training.parquet\n",
      "/kaggle/input/TFTP-testing.parquet\n",
      "/kaggle/input/MSSQL-training.parquet\n"
     ]
    }
   ],
   "source": [
    "# Print available files\n",
    "for dirname, _, filenames in os.walk('/kaggle/input'):\n",
    "    for filename in filenames:\n",
    "        print(os.path.join(dirname, filename))\n"
   ]
  },
  {
   "cell_type": "code",
   "execution_count": 6,
   "metadata": {
    "execution": {
     "iopub.execute_input": "2025-05-18T16:45:29.415893Z",
     "iopub.status.busy": "2025-05-18T16:45:29.415639Z",
     "iopub.status.idle": "2025-05-18T16:45:30.762331Z",
     "shell.execute_reply": "2025-05-18T16:45:30.761431Z",
     "shell.execute_reply.started": "2025-05-18T16:45:29.415876Z"
    },
    "trusted": true
   },
   "outputs": [
    {
     "name": "stdout",
     "output_type": "stream",
     "text": [
      "Loading datasets...\n"
     ]
    }
   ],
   "source": [
    "# Data preparation\n",
    "print(\"Loading datasets...\")\n",
    "dataframes = {name: pd.read_parquet(path) for name, path in dataset_paths.items()}\n",
    "dataframes_list = list(dataframes.items())\n"
   ]
  },
  {
   "cell_type": "code",
   "execution_count": 7,
   "metadata": {
    "execution": {
     "iopub.execute_input": "2025-05-18T16:45:30.763610Z",
     "iopub.status.busy": "2025-05-18T16:45:30.763320Z",
     "iopub.status.idle": "2025-05-18T16:45:30.768780Z",
     "shell.execute_reply": "2025-05-18T16:45:30.767942Z",
     "shell.execute_reply.started": "2025-05-18T16:45:30.763581Z"
    },
    "trusted": true
   },
   "outputs": [],
   "source": [
    "# Check column consistency across datasets\n",
    "reference_name, reference_df = dataframes_list[0]\n",
    "reference_columns = set(reference_df.columns)\n",
    "\n",
    "for name, df in dataframes_list:\n",
    "    if set(df.columns) != reference_columns:\n",
    "        print(f\"Warning: DataFrame {name} has different columns\")\n",
    "        print(f\"Different columns: {set(df.columns) - reference_columns} | {reference_columns - set(df.columns)}\")\n"
   ]
  },
  {
   "cell_type": "code",
   "execution_count": 8,
   "metadata": {
    "execution": {
     "iopub.execute_input": "2025-05-18T16:45:30.769881Z",
     "iopub.status.busy": "2025-05-18T16:45:30.769595Z",
     "iopub.status.idle": "2025-05-18T16:45:30.791188Z",
     "shell.execute_reply": "2025-05-18T16:45:30.790429Z",
     "shell.execute_reply.started": "2025-05-18T16:45:30.769858Z"
    },
    "trusted": true
   },
   "outputs": [],
   "source": [
    "label_mapping = {\n",
    "    'LDAP': 'DrDoS_LDAP',\n",
    "    'MSSQL': 'DrDoS_MSSQL',\n",
    "    'NetBIOS': 'DrDoS_NetBIOS',\n",
    "    'UDP-lag': 'DDoS_UDP_Lag',\n",
    "    'UDPLag': 'DDoS_UDP_Lag',\n",
    "    'UDP': 'DDoS_UDP',\n",
    "    'Syn': 'DDoS_SYN',\n",
    "    'Portmap': 'DrDoS_Portmap',\n",
    "    'TFTP': 'DrDoS_TFTP',\n",
    "    'WebDDoS': 'DDoS_Web'\n",
    "}"
   ]
  },
  {
   "cell_type": "code",
   "execution_count": 9,
   "metadata": {
    "execution": {
     "iopub.execute_input": "2025-05-18T16:45:30.792407Z",
     "iopub.status.busy": "2025-05-18T16:45:30.792060Z",
     "iopub.status.idle": "2025-05-18T16:45:30.943478Z",
     "shell.execute_reply": "2025-05-18T16:45:30.942585Z",
     "shell.execute_reply.started": "2025-05-18T16:45:30.792379Z"
    },
    "trusted": true
   },
   "outputs": [],
   "source": [
    "for name, df in dataframes.items():\n",
    "    df['Label'] = df['Label'].map(lambda x: label_mapping.get(x, x))\n",
    "\n",
    "# Combine datasets\n",
    "combined_datasets = {}\n",
    "for name, df in dataframes_list:\n",
    "    base_name = name.split('_')[0]\n",
    "    if base_name not in combined_datasets:\n",
    "        combined_datasets[base_name] = df\n",
    "    else:\n",
    "        combined_datasets[base_name] = pd.concat([combined_datasets[base_name], df], ignore_index=True)\n",
    "\n",
    "df = pd.concat(combined_datasets.values(), ignore_index=True)\n"
   ]
  },
  {
   "cell_type": "code",
   "execution_count": 10,
   "metadata": {
    "execution": {
     "iopub.execute_input": "2025-05-18T16:45:30.944793Z",
     "iopub.status.busy": "2025-05-18T16:45:30.944515Z",
     "iopub.status.idle": "2025-05-18T16:45:33.364552Z",
     "shell.execute_reply": "2025-05-18T16:45:33.363860Z",
     "shell.execute_reply.started": "2025-05-18T16:45:30.944770Z"
    },
    "trusted": true
   },
   "outputs": [
    {
     "name": "stdout",
     "output_type": "stream",
     "text": [
      "Data cleaning...\n",
      "Original shape: (431371, 78)\n",
      "Found 8568 duplicate rows\n"
     ]
    }
   ],
   "source": [
    "# Data cleaning\n",
    "print(\"Data cleaning...\")\n",
    "print(f\"Original shape: {df.shape}\")\n",
    "print(f\"Found {df.duplicated().sum()} duplicate rows\")\n",
    "df = df.drop_duplicates().reset_index(drop=True)\n"
   ]
  },
  {
   "cell_type": "code",
   "execution_count": 11,
   "metadata": {
    "execution": {
     "iopub.execute_input": "2025-05-18T16:45:33.365604Z",
     "iopub.status.busy": "2025-05-18T16:45:33.365383Z",
     "iopub.status.idle": "2025-05-18T16:45:33.574058Z",
     "shell.execute_reply": "2025-05-18T16:45:33.573411Z",
     "shell.execute_reply.started": "2025-05-18T16:45:33.365588Z"
    },
    "trusted": true
   },
   "outputs": [
    {
     "name": "stdout",
     "output_type": "stream",
     "text": [
      "Columns with missing values: Series([], dtype: int64)\n"
     ]
    }
   ],
   "source": [
    "# Check for missing values\n",
    "missing_values = df.isnull().sum()\n",
    "print(f\"Columns with missing values: {missing_values[missing_values > 0]}\")\n",
    "df = df.dropna().reset_index(drop=True)\n"
   ]
  },
  {
   "cell_type": "code",
   "execution_count": 12,
   "metadata": {
    "execution": {
     "iopub.execute_input": "2025-05-18T16:45:33.575186Z",
     "iopub.status.busy": "2025-05-18T16:45:33.574875Z",
     "iopub.status.idle": "2025-05-18T16:45:33.594958Z",
     "shell.execute_reply": "2025-05-18T16:45:33.594439Z",
     "shell.execute_reply.started": "2025-05-18T16:45:33.575160Z"
    },
    "trusted": true
   },
   "outputs": [],
   "source": [
    "# Find columns with float data types\n",
    "float_columns = df.select_dtypes(include=['float64', 'float32']).columns\n"
   ]
  },
  {
   "cell_type": "code",
   "execution_count": 13,
   "metadata": {
    "execution": {
     "iopub.execute_input": "2025-05-18T16:45:33.595820Z",
     "iopub.status.busy": "2025-05-18T16:45:33.595626Z",
     "iopub.status.idle": "2025-05-18T16:45:33.715570Z",
     "shell.execute_reply": "2025-05-18T16:45:33.714937Z",
     "shell.execute_reply.started": "2025-05-18T16:45:33.595806Z"
    },
    "trusted": true
   },
   "outputs": [
    {
     "name": "stdout",
     "output_type": "stream",
     "text": [
      "Found 0 rows with infinite values\n"
     ]
    }
   ],
   "source": [
    "# Count rows with infinite values before replacement\n",
    "inf_mask = np.isinf(df[float_columns].values).any(axis=1)\n",
    "print(f\"Found {inf_mask.sum()} rows with infinite values\")\n"
   ]
  },
  {
   "cell_type": "code",
   "execution_count": 14,
   "metadata": {
    "execution": {
     "iopub.execute_input": "2025-05-18T16:45:33.716472Z",
     "iopub.status.busy": "2025-05-18T16:45:33.716280Z",
     "iopub.status.idle": "2025-05-18T16:45:33.895133Z",
     "shell.execute_reply": "2025-05-18T16:45:33.894492Z",
     "shell.execute_reply.started": "2025-05-18T16:45:33.716458Z"
    },
    "trusted": true
   },
   "outputs": [
    {
     "name": "stdout",
     "output_type": "stream",
     "text": [
      "Found 0 rows with infinite values\n"
     ]
    }
   ],
   "source": [
    "# Remove rows with infinite values\n",
    "inf_mask = np.isinf(df.select_dtypes(include=['float64', 'float32']).values).any(axis=1)\n",
    "print(f\"Found {inf_mask.sum()} rows with infinite values\")\n",
    "df = df[~inf_mask].reset_index(drop=True)"
   ]
  },
  {
   "cell_type": "code",
   "execution_count": 15,
   "metadata": {
    "execution": {
     "iopub.execute_input": "2025-05-18T16:45:33.896136Z",
     "iopub.status.busy": "2025-05-18T16:45:33.895902Z",
     "iopub.status.idle": "2025-05-18T16:45:33.900471Z",
     "shell.execute_reply": "2025-05-18T16:45:33.899840Z",
     "shell.execute_reply.started": "2025-05-18T16:45:33.896119Z"
    },
    "trusted": true
   },
   "outputs": [
    {
     "name": "stdout",
     "output_type": "stream",
     "text": [
      "Clean shape: (422803, 78)\n"
     ]
    }
   ],
   "source": [
    "print(f\"Clean shape: {df.shape}\")\n"
   ]
  },
  {
   "cell_type": "code",
   "execution_count": 16,
   "metadata": {
    "execution": {
     "iopub.execute_input": "2025-05-18T16:45:33.901451Z",
     "iopub.status.busy": "2025-05-18T16:45:33.901199Z",
     "iopub.status.idle": "2025-05-18T16:45:33.919016Z",
     "shell.execute_reply": "2025-05-18T16:45:33.918307Z",
     "shell.execute_reply.started": "2025-05-18T16:45:33.901430Z"
    },
    "trusted": true
   },
   "outputs": [
    {
     "data": {
      "text/plain": [
       "['Protocol',\n",
       " 'Flow Duration',\n",
       " 'Total Fwd Packets',\n",
       " 'Total Backward Packets',\n",
       " 'Fwd Packets Length Total',\n",
       " 'Bwd Packets Length Total',\n",
       " 'Fwd Packet Length Max',\n",
       " 'Fwd Packet Length Min',\n",
       " 'Fwd Packet Length Mean',\n",
       " 'Fwd Packet Length Std',\n",
       " 'Bwd Packet Length Max',\n",
       " 'Bwd Packet Length Min',\n",
       " 'Bwd Packet Length Mean',\n",
       " 'Bwd Packet Length Std',\n",
       " 'Flow Bytes/s',\n",
       " 'Flow Packets/s',\n",
       " 'Flow IAT Mean',\n",
       " 'Flow IAT Std',\n",
       " 'Flow IAT Max',\n",
       " 'Flow IAT Min',\n",
       " 'Fwd IAT Total',\n",
       " 'Fwd IAT Mean',\n",
       " 'Fwd IAT Std',\n",
       " 'Fwd IAT Max',\n",
       " 'Fwd IAT Min',\n",
       " 'Bwd IAT Total',\n",
       " 'Bwd IAT Mean',\n",
       " 'Bwd IAT Std',\n",
       " 'Bwd IAT Max',\n",
       " 'Bwd IAT Min',\n",
       " 'Fwd PSH Flags',\n",
       " 'Bwd PSH Flags',\n",
       " 'Fwd URG Flags',\n",
       " 'Bwd URG Flags',\n",
       " 'Fwd Header Length',\n",
       " 'Bwd Header Length',\n",
       " 'Fwd Packets/s',\n",
       " 'Bwd Packets/s',\n",
       " 'Packet Length Min',\n",
       " 'Packet Length Max',\n",
       " 'Packet Length Mean',\n",
       " 'Packet Length Std',\n",
       " 'Packet Length Variance',\n",
       " 'FIN Flag Count',\n",
       " 'SYN Flag Count',\n",
       " 'RST Flag Count',\n",
       " 'PSH Flag Count',\n",
       " 'ACK Flag Count',\n",
       " 'URG Flag Count',\n",
       " 'CWE Flag Count',\n",
       " 'ECE Flag Count',\n",
       " 'Down/Up Ratio',\n",
       " 'Avg Packet Size',\n",
       " 'Avg Fwd Segment Size',\n",
       " 'Avg Bwd Segment Size',\n",
       " 'Fwd Avg Bytes/Bulk',\n",
       " 'Fwd Avg Packets/Bulk',\n",
       " 'Fwd Avg Bulk Rate',\n",
       " 'Bwd Avg Bytes/Bulk',\n",
       " 'Bwd Avg Packets/Bulk',\n",
       " 'Bwd Avg Bulk Rate',\n",
       " 'Subflow Fwd Packets',\n",
       " 'Subflow Fwd Bytes',\n",
       " 'Subflow Bwd Packets',\n",
       " 'Subflow Bwd Bytes',\n",
       " 'Init Fwd Win Bytes',\n",
       " 'Init Bwd Win Bytes',\n",
       " 'Fwd Act Data Packets',\n",
       " 'Fwd Seg Size Min',\n",
       " 'Active Mean',\n",
       " 'Active Std',\n",
       " 'Active Max',\n",
       " 'Active Min',\n",
       " 'Idle Mean',\n",
       " 'Idle Std',\n",
       " 'Idle Max',\n",
       " 'Idle Min']"
      ]
     },
     "execution_count": 16,
     "metadata": {},
     "output_type": "execute_result"
    }
   ],
   "source": [
    "# Get feature columns\n",
    "feature_cols = [col for col in df.columns if col != 'Label']\n",
    "feature_cols\n"
   ]
  },
  {
   "cell_type": "code",
   "execution_count": 17,
   "metadata": {
    "execution": {
     "iopub.execute_input": "2025-05-18T16:45:33.919962Z",
     "iopub.status.busy": "2025-05-18T16:45:33.919772Z",
     "iopub.status.idle": "2025-05-18T16:45:33.936790Z",
     "shell.execute_reply": "2025-05-18T16:45:33.936092Z",
     "shell.execute_reply.started": "2025-05-18T16:45:33.919949Z"
    },
    "trusted": true
   },
   "outputs": [],
   "source": [
    "# Handle outliers\n",
    "def handle_outliers(df, columns):\n",
    "    df_out = df.copy()\n",
    "    for col in columns:\n",
    "        Q1 = df_out[col].quantile(0.25)\n",
    "        Q3 = df_out[col].quantile(0.75)\n",
    "        IQR = Q3 - Q1\n",
    "        lower_bound = Q1 - 1.5 * IQR\n",
    "        upper_bound = Q3 + 1.5 * IQR\n",
    "        \n",
    "        # Cap outliers rather than removing them\n",
    "        df_out[col] = np.where(df_out[col] < lower_bound, lower_bound, df_out[col])\n",
    "        df_out[col] = np.where(df_out[col] > upper_bound, upper_bound, df_out[col])\n",
    "    return df_out\n"
   ]
  },
  {
   "cell_type": "code",
   "execution_count": 18,
   "metadata": {
    "execution": {
     "iopub.execute_input": "2025-05-18T16:45:33.937856Z",
     "iopub.status.busy": "2025-05-18T16:45:33.937541Z",
     "iopub.status.idle": "2025-05-18T16:45:34.129127Z",
     "shell.execute_reply": "2025-05-18T16:45:34.128556Z",
     "shell.execute_reply.started": "2025-05-18T16:45:33.937830Z"
    },
    "trusted": true
   },
   "outputs": [],
   "source": [
    "df[feature_cols] = df[feature_cols].apply(pd.to_numeric, errors='coerce')\n"
   ]
  },
  {
   "cell_type": "code",
   "execution_count": 19,
   "metadata": {
    "execution": {
     "iopub.execute_input": "2025-05-18T16:45:34.130173Z",
     "iopub.status.busy": "2025-05-18T16:45:34.129914Z",
     "iopub.status.idle": "2025-05-18T16:45:34.672281Z",
     "shell.execute_reply": "2025-05-18T16:45:34.671423Z",
     "shell.execute_reply.started": "2025-05-18T16:45:34.130154Z"
    },
    "trusted": true
   },
   "outputs": [
    {
     "name": "stdout",
     "output_type": "stream",
     "text": [
      "Normalizing features...\n"
     ]
    }
   ],
   "source": [
    "print(\"Normalizing features...\")\n",
    "scaler = MinMaxScaler()\n",
    "df[feature_cols] = scaler.fit_transform(df[feature_cols])\n",
    "\n"
   ]
  },
  {
   "cell_type": "code",
   "execution_count": 20,
   "metadata": {
    "execution": {
     "iopub.execute_input": "2025-05-18T16:45:34.673635Z",
     "iopub.status.busy": "2025-05-18T16:45:34.673275Z",
     "iopub.status.idle": "2025-05-18T16:45:34.678992Z",
     "shell.execute_reply": "2025-05-18T16:45:34.678152Z",
     "shell.execute_reply.started": "2025-05-18T16:45:34.673614Z"
    },
    "trusted": true
   },
   "outputs": [
    {
     "data": {
      "text/plain": [
       "Index(['Protocol', 'Flow Duration', 'Total Fwd Packets',\n",
       "       'Total Backward Packets', 'Fwd Packets Length Total',\n",
       "       'Bwd Packets Length Total', 'Fwd Packet Length Max',\n",
       "       'Fwd Packet Length Min', 'Fwd Packet Length Mean',\n",
       "       'Fwd Packet Length Std', 'Bwd Packet Length Max',\n",
       "       'Bwd Packet Length Min', 'Bwd Packet Length Mean',\n",
       "       'Bwd Packet Length Std', 'Flow Bytes/s', 'Flow Packets/s',\n",
       "       'Flow IAT Mean', 'Flow IAT Std', 'Flow IAT Max', 'Flow IAT Min',\n",
       "       'Fwd IAT Total', 'Fwd IAT Mean', 'Fwd IAT Std', 'Fwd IAT Max',\n",
       "       'Fwd IAT Min', 'Bwd IAT Total', 'Bwd IAT Mean', 'Bwd IAT Std',\n",
       "       'Bwd IAT Max', 'Bwd IAT Min', 'Fwd PSH Flags', 'Bwd PSH Flags',\n",
       "       'Fwd URG Flags', 'Bwd URG Flags', 'Fwd Header Length',\n",
       "       'Bwd Header Length', 'Fwd Packets/s', 'Bwd Packets/s',\n",
       "       'Packet Length Min', 'Packet Length Max', 'Packet Length Mean',\n",
       "       'Packet Length Std', 'Packet Length Variance', 'FIN Flag Count',\n",
       "       'SYN Flag Count', 'RST Flag Count', 'PSH Flag Count', 'ACK Flag Count',\n",
       "       'URG Flag Count', 'CWE Flag Count', 'ECE Flag Count', 'Down/Up Ratio',\n",
       "       'Avg Packet Size', 'Avg Fwd Segment Size', 'Avg Bwd Segment Size',\n",
       "       'Fwd Avg Bytes/Bulk', 'Fwd Avg Packets/Bulk', 'Fwd Avg Bulk Rate',\n",
       "       'Bwd Avg Bytes/Bulk', 'Bwd Avg Packets/Bulk', 'Bwd Avg Bulk Rate',\n",
       "       'Subflow Fwd Packets', 'Subflow Fwd Bytes', 'Subflow Bwd Packets',\n",
       "       'Subflow Bwd Bytes', 'Init Fwd Win Bytes', 'Init Bwd Win Bytes',\n",
       "       'Fwd Act Data Packets', 'Fwd Seg Size Min', 'Active Mean', 'Active Std',\n",
       "       'Active Max', 'Active Min', 'Idle Mean', 'Idle Std', 'Idle Max',\n",
       "       'Idle Min', 'Label'],\n",
       "      dtype='object')"
      ]
     },
     "execution_count": 20,
     "metadata": {},
     "output_type": "execute_result"
    }
   ],
   "source": [
    "df.columns"
   ]
  },
  {
   "cell_type": "code",
   "execution_count": 21,
   "metadata": {
    "execution": {
     "iopub.execute_input": "2025-05-18T16:45:34.683462Z",
     "iopub.status.busy": "2025-05-18T16:45:34.683254Z",
     "iopub.status.idle": "2025-05-18T16:45:34.786297Z",
     "shell.execute_reply": "2025-05-18T16:45:34.785545Z",
     "shell.execute_reply.started": "2025-05-18T16:45:34.683447Z"
    },
    "trusted": true
   },
   "outputs": [
    {
     "name": "stdout",
     "output_type": "stream",
     "text": [
      "Encoding labels...\n"
     ]
    }
   ],
   "source": [
    "print(\"Encoding labels...\")\n",
    "# First, create a binary label for benign vs. attack\n",
    "df['is_attack'] = (df['Label'] != 'Benign').astype(int)\n",
    "\n",
    "# Then encode the detailed attack types\n",
    "label_encoder = LabelEncoder()\n",
    "df['Label_encoded'] = label_encoder.fit_transform(df['Label'])\n",
    "\n"
   ]
  },
  {
   "cell_type": "code",
   "execution_count": 22,
   "metadata": {
    "execution": {
     "iopub.execute_input": "2025-05-18T16:45:34.787168Z",
     "iopub.status.busy": "2025-05-18T16:45:34.786944Z",
     "iopub.status.idle": "2025-05-18T16:45:34.809702Z",
     "shell.execute_reply": "2025-05-18T16:45:34.809090Z",
     "shell.execute_reply.started": "2025-05-18T16:45:34.787152Z"
    },
    "trusted": true
   },
   "outputs": [
    {
     "data": {
      "text/plain": [
       "array(['DrDoS_DNS', 'Benign', 'DrDoS_LDAP', 'DrDoS_NetBIOS',\n",
       "       'DrDoS_MSSQL', 'DrDoS_NTP', 'DrDoS_Portmap', 'DrDoS_SNMP',\n",
       "       'DDoS_SYN', 'DrDoS_TFTP', 'DrDoS_UDP', 'DDoS_UDP', 'DDoS_UDP_Lag',\n",
       "       'DDoS_Web'], dtype=object)"
      ]
     },
     "execution_count": 22,
     "metadata": {},
     "output_type": "execute_result"
    }
   ],
   "source": [
    "df['Label'].unique()\n"
   ]
  },
  {
   "cell_type": "code",
   "execution_count": 23,
   "metadata": {
    "execution": {
     "iopub.execute_input": "2025-05-18T16:45:34.810492Z",
     "iopub.status.busy": "2025-05-18T16:45:34.810325Z",
     "iopub.status.idle": "2025-05-18T16:45:34.825698Z",
     "shell.execute_reply": "2025-05-18T16:45:34.825083Z",
     "shell.execute_reply.started": "2025-05-18T16:45:34.810479Z"
    },
    "trusted": true
   },
   "outputs": [
    {
     "data": {
      "text/plain": [
       "array([1, 0])"
      ]
     },
     "execution_count": 23,
     "metadata": {},
     "output_type": "execute_result"
    }
   ],
   "source": [
    "# %%\n",
    "df['is_attack'].unique()\n",
    "# 1 for attack 0 for benign\n"
   ]
  },
  {
   "cell_type": "code",
   "execution_count": 24,
   "metadata": {
    "execution": {
     "iopub.execute_input": "2025-05-18T16:45:34.827249Z",
     "iopub.status.busy": "2025-05-18T16:45:34.826536Z",
     "iopub.status.idle": "2025-05-18T16:45:34.843455Z",
     "shell.execute_reply": "2025-05-18T16:45:34.842773Z",
     "shell.execute_reply.started": "2025-05-18T16:45:34.827223Z"
    },
    "trusted": true
   },
   "outputs": [
    {
     "data": {
      "text/plain": [
       "array([ 5,  0,  6,  9,  7,  8, 10, 11,  1, 12, 13,  2,  3,  4])"
      ]
     },
     "execution_count": 24,
     "metadata": {},
     "output_type": "execute_result"
    }
   ],
   "source": [
    "df['Label_encoded'].unique()\n"
   ]
  },
  {
   "cell_type": "code",
   "execution_count": 25,
   "metadata": {
    "execution": {
     "iopub.execute_input": "2025-05-18T16:45:34.844351Z",
     "iopub.status.busy": "2025-05-18T16:45:34.844153Z",
     "iopub.status.idle": "2025-05-18T16:45:34.863149Z",
     "shell.execute_reply": "2025-05-18T16:45:34.862428Z",
     "shell.execute_reply.started": "2025-05-18T16:45:34.844336Z"
    },
    "trusted": true
   },
   "outputs": [
    {
     "name": "stdout",
     "output_type": "stream",
     "text": [
      "Label mapping:\n",
      "   Original Label  Encoded Value\n",
      "0          Benign              0\n",
      "1        DDoS_SYN              1\n",
      "2        DDoS_UDP              2\n",
      "3    DDoS_UDP_Lag              3\n",
      "4        DDoS_Web              4\n",
      "5       DrDoS_DNS              5\n",
      "6      DrDoS_LDAP              6\n",
      "7     DrDoS_MSSQL              7\n",
      "8       DrDoS_NTP              8\n",
      "9   DrDoS_NetBIOS              9\n",
      "10  DrDoS_Portmap             10\n",
      "11     DrDoS_SNMP             11\n",
      "12     DrDoS_TFTP             12\n",
      "13      DrDoS_UDP             13\n"
     ]
    }
   ],
   "source": [
    "# Print label mapping\n",
    "label_mapping_df = pd.DataFrame({\n",
    "    'Original Label': label_encoder.classes_,\n",
    "    'Encoded Value': range(len(label_encoder.classes_))\n",
    "})\n",
    "print(\"Label mapping:\")\n",
    "print(label_mapping_df)"
   ]
  },
  {
   "cell_type": "code",
   "execution_count": 26,
   "metadata": {
    "execution": {
     "iopub.execute_input": "2025-05-18T16:45:34.864237Z",
     "iopub.status.busy": "2025-05-18T16:45:34.863967Z",
     "iopub.status.idle": "2025-05-18T16:45:34.877079Z",
     "shell.execute_reply": "2025-05-18T16:45:34.876374Z",
     "shell.execute_reply.started": "2025-05-18T16:45:34.864217Z"
    },
    "trusted": true
   },
   "outputs": [
    {
     "name": "stdout",
     "output_type": "stream",
     "text": [
      "Number of classes: 14\n"
     ]
    }
   ],
   "source": [
    "n_classes = len(label_encoder.classes_)\n",
    "print(f\"Number of classes: {n_classes}\")\n"
   ]
  },
  {
   "cell_type": "code",
   "execution_count": 28,
   "metadata": {
    "execution": {
     "iopub.execute_input": "2025-05-18T16:45:35.392338Z",
     "iopub.status.busy": "2025-05-18T16:45:35.392048Z",
     "iopub.status.idle": "2025-05-18T16:45:36.038576Z",
     "shell.execute_reply": "2025-05-18T16:45:36.037695Z",
     "shell.execute_reply.started": "2025-05-18T16:45:35.392319Z"
    },
    "trusted": true
   },
   "outputs": [],
   "source": [
    "# Prepare X and y\n",
    "X = df[feature_cols].values\n",
    "y_binary = df['is_attack'].values\n",
    "y_multiclass = df['Label_encoded'].values\n",
    "y_onehot = to_categorical(y_multiclass, num_classes=n_classes)\n"
   ]
  },
  {
   "cell_type": "code",
   "execution_count": 27,
   "metadata": {
    "execution": {
     "iopub.execute_input": "2025-05-18T16:45:34.878170Z",
     "iopub.status.busy": "2025-05-18T16:45:34.877902Z",
     "iopub.status.idle": "2025-05-18T16:45:35.391171Z",
     "shell.execute_reply": "2025-05-18T16:45:35.390291Z",
     "shell.execute_reply.started": "2025-05-18T16:45:34.878141Z"
    },
    "trusted": true
   },
   "outputs": [
    {
     "data": {
      "image/png": "[encoded data removed]",
      "text/plain": [
       "<Figure size 1200x600 with 1 Axes>"
      ]
     },
     "metadata": {},
     "output_type": "display_data"
    }
   ],
   "source": [
    "# Visualize class distribution\n",
    "plt.figure(figsize=(12, 6))\n",
    "sns.countplot(x='Label_encoded', data=df)\n",
    "plt.title('Distribution of Attack Types')\n",
    "plt.xticks(range(n_classes), label_encoder.classes_, rotation=90)\n",
    "plt.tight_layout()\n",
    "plt.savefig('class_distribution.png')\n",
    "plt.show()"
   ]
  },
  {
   "cell_type": "code",
   "execution_count": 29,
   "metadata": {
    "execution": {
     "iopub.execute_input": "2025-05-18T16:45:36.039738Z",
     "iopub.status.busy": "2025-05-18T16:45:36.039491Z",
     "iopub.status.idle": "2025-05-18T16:45:36.550672Z",
     "shell.execute_reply": "2025-05-18T16:45:36.550042Z",
     "shell.execute_reply.started": "2025-05-18T16:45:36.039716Z"
    },
    "trusted": true
   },
   "outputs": [],
   "source": [
    "X_train, X_test, y_train_multi, y_test_multi, y_train_binary, y_test_binary = train_test_split(\n",
    "    X, y_multiclass, y_binary, test_size=0.25, random_state=42, stratify=y_multiclass\n",
    ")"
   ]
  },
  {
   "cell_type": "code",
   "execution_count": 30,
   "metadata": {
    "execution": {
     "iopub.execute_input": "2025-05-18T16:45:36.551753Z",
     "iopub.status.busy": "2025-05-18T16:45:36.551454Z",
     "iopub.status.idle": "2025-05-18T16:45:36.585827Z",
     "shell.execute_reply": "2025-05-18T16:45:36.585025Z",
     "shell.execute_reply.started": "2025-05-18T16:45:36.551731Z"
    },
    "trusted": true
   },
   "outputs": [],
   "source": [
    "# %%\n",
    "y_train_onehot = to_categorical(y_train_multi, num_classes=n_classes)\n",
    "y_test_onehot = to_categorical(y_test_multi, num_classes=n_classes)\n"
   ]
  },
  {
   "cell_type": "code",
   "execution_count": 31,
   "metadata": {
    "execution": {
     "iopub.execute_input": "2025-05-18T16:45:36.586977Z",
     "iopub.status.busy": "2025-05-18T16:45:36.586699Z",
     "iopub.status.idle": "2025-05-18T16:45:36.609712Z",
     "shell.execute_reply": "2025-05-18T16:45:36.608879Z",
     "shell.execute_reply.started": "2025-05-18T16:45:36.586954Z"
    },
    "trusted": true
   },
   "outputs": [],
   "source": [
    "# %%\n",
    "# For autoencoder - select only benign traffic\n",
    "benign_idx = np.where(y_train_binary == 0)[0]\n",
    "X_train_benign = X_train[benign_idx]"
   ]
  },
  {
   "cell_type": "code",
   "execution_count": 32,
   "metadata": {
    "execution": {
     "iopub.execute_input": "2025-05-18T16:45:36.610749Z",
     "iopub.status.busy": "2025-05-18T16:45:36.610527Z",
     "iopub.status.idle": "2025-05-18T16:45:36.614688Z",
     "shell.execute_reply": "2025-05-18T16:45:36.614159Z",
     "shell.execute_reply.started": "2025-05-18T16:45:36.610726Z"
    },
    "trusted": true
   },
   "outputs": [],
   "source": [
    "# %%\n",
    "# Reshape input data for LSTM (samples, time steps, features)\n",
    "X_train_reshaped = X_train.reshape(X_train.shape[0], 1, X_train.shape[1])\n",
    "X_test_reshaped = X_test.reshape(X_test.shape[0], 1, X_test.shape[1])\n",
    "X_train_benign_reshaped = X_train_benign.reshape(X_train_benign.shape[0], 1, X_train_benign.shape[1])\n"
   ]
  },
  {
   "cell_type": "code",
   "execution_count": 33,
   "metadata": {
    "execution": {
     "iopub.execute_input": "2025-05-18T16:45:36.615468Z",
     "iopub.status.busy": "2025-05-18T16:45:36.615268Z",
     "iopub.status.idle": "2025-05-18T16:45:36.634335Z",
     "shell.execute_reply": "2025-05-18T16:45:36.633582Z",
     "shell.execute_reply.started": "2025-05-18T16:45:36.615453Z"
    },
    "trusted": true
   },
   "outputs": [
    {
     "name": "stdout",
     "output_type": "stream",
     "text": [
      "Training data shape: (317102, 77)\n",
      "Test data shape: (105701, 77)\n",
      "Benign training data shape: (71028, 77)\n"
     ]
    }
   ],
   "source": [
    "print(f\"Training data shape: {X_train.shape}\")\n",
    "print(f\"Test data shape: {X_test.shape}\")\n",
    "print(f\"Benign training data shape: {X_train_benign.shape}\")"
   ]
  },
  {
   "cell_type": "code",
   "execution_count": 34,
   "metadata": {
    "execution": {
     "iopub.execute_input": "2025-05-18T16:45:36.635524Z",
     "iopub.status.busy": "2025-05-18T16:45:36.635292Z",
     "iopub.status.idle": "2025-05-18T16:45:36.651693Z",
     "shell.execute_reply": "2025-05-18T16:45:36.651149Z",
     "shell.execute_reply.started": "2025-05-18T16:45:36.635504Z"
    },
    "trusted": true
   },
   "outputs": [],
   "source": [
    "def create_autoencoder(input_shape, encoding_dim=128, l2_reg=0.001, dropout_rate=0.3):\n",
    "    # Input\n",
    "    inputs = Input(shape=input_shape)\n",
    "    \n",
    "    # Encoder\n",
    "    x = LSTM(256, activation='relu', return_sequences=True,\n",
    "             kernel_regularizer=regularizers.l2(l2_reg))(inputs)\n",
    "    x = BatchNormalization()(x)\n",
    "    x = Dropout(dropout_rate)(x)\n",
    "    \n",
    "    x = LSTM(encoding_dim, activation='relu', return_sequences=False,\n",
    "             kernel_regularizer=regularizers.l2(l2_reg))(x)\n",
    "    encoded = BatchNormalization()(x)\n",
    "     # Decoder\n",
    "    x = RepeatVector(input_shape[0])(encoded)\n",
    "    \n",
    "    x = LSTM(encoding_dim, activation='relu', return_sequences=True,\n",
    "             kernel_regularizer=regularizers.l2(l2_reg))(x)\n",
    "    x = BatchNormalization()(x)\n",
    "    x = Dropout(dropout_rate)(x)\n",
    "    \n",
    "    x = LSTM(256, activation='relu', return_sequences=True,\n",
    "             kernel_regularizer=regularizers.l2(l2_reg))(x)\n",
    "    x = BatchNormalization()(x)\n",
    "     # Output\n",
    "    outputs = TimeDistributed(Dense(input_shape[1]))(x)\n",
    "        # Create the model\n",
    "    autoencoder = Model(inputs=inputs, outputs=outputs, name=\"autoencoder\")\n",
    "    \n",
    "    # Create encoder model\n",
    "    encoder = Model(inputs=inputs, outputs=encoded, name=\"encoder\")\n",
    "    \n",
    "    return autoencoder, encoder\n"
   ]
  },
  {
   "cell_type": "code",
   "execution_count": 35,
   "metadata": {
    "execution": {
     "iopub.execute_input": "2025-05-18T16:45:36.652544Z",
     "iopub.status.busy": "2025-05-18T16:45:36.652346Z",
     "iopub.status.idle": "2025-05-18T16:45:36.672531Z",
     "shell.execute_reply": "2025-05-18T16:45:36.671821Z",
     "shell.execute_reply.started": "2025-05-18T16:45:36.652529Z"
    },
    "trusted": true
   },
   "outputs": [],
   "source": [
    "# Create a classification neural network for attack type prediction\n",
    "def create_classifier(input_dim, num_classes, hidden_layers=[256, 128], dropout_rate=0.3):\n",
    "    model = Sequential()\n",
    "    \n",
    "    # First layer\n",
    "    model.add(Dense(hidden_layers[0], input_dim=input_dim, activation='relu'))\n",
    "    model.add(BatchNormalization())\n",
    "    model.add(Dropout(dropout_rate))\n",
    "       # Hidden layers\n",
    "    for units in hidden_layers[1:]:\n",
    "        model.add(Dense(units, activation='relu'))\n",
    "        model.add(BatchNormalization())\n",
    "        model.add(Dropout(dropout_rate))\n",
    "    \n",
    "    # Output layer\n",
    "    model.add(Dense(num_classes, activation='softmax'))\n",
    "    \n",
    "    return model\n",
    "    "
   ]
  },
  {
   "cell_type": "code",
   "execution_count": 36,
   "metadata": {
    "execution": {
     "iopub.execute_input": "2025-05-18T16:45:36.673650Z",
     "iopub.status.busy": "2025-05-18T16:45:36.673375Z",
     "iopub.status.idle": "2025-05-18T16:45:41.493406Z",
     "shell.execute_reply": "2025-05-18T16:45:41.492860Z",
     "shell.execute_reply.started": "2025-05-18T16:45:36.673633Z"
    },
    "trusted": true
   },
   "outputs": [
    {
     "name": "stdout",
     "output_type": "stream",
     "text": [
      "Training autoencoder on benign data only...\n"
     ]
    },
    {
     "name": "stderr",
     "output_type": "stream",
     "text": [
      "I0000 00:00:1747586739.325480     125 gpu_device.cc:2022] Created device /job:localhost/replica:0/task:0/device:GPU:0 with 13942 MB memory:  -> device: 0, name: Tesla T4, pci bus id: 0000:00:04.0, compute capability: 7.5\n",
      "I0000 00:00:1747586739.326202     125 gpu_device.cc:2022] Created device /job:localhost/replica:0/task:0/device:GPU:1 with 13942 MB memory:  -> device: 1, name: Tesla T4, pci bus id: 0000:00:05.0, compute capability: 7.5\n"
     ]
    },
    {
     "data": {
      "text/html": [
       "<pre style=\"white-space:pre;overflow-x:auto;line-height:normal;font-family:Menlo,'DejaVu Sans Mono',consolas,'Courier New',monospace\"><span style=\"font-weight: bold\">Model: \"autoencoder\"</span>\n",
       "</pre>\n"
      ],
      "text/plain": [
       "\u001b[1mModel: \"autoencoder\"\u001b[0m\n"
      ]
     },
     "metadata": {},
     "output_type": "display_data"
    },
    {
     "data": {
      "text/html": [
       "<pre style=\"white-space:pre;overflow-x:auto;line-height:normal;font-family:Menlo,'DejaVu Sans Mono',consolas,'Courier New',monospace\">┏━━━━━━━━━━━━━━━━━━━━━━━━━━━━━━━━━━━━━━┳━━━━━━━━━━━━━━━━━━━━━━━━━━━━━┳━━━━━━━━━━━━━━━━━┓\n",
       "┃<span style=\"font-weight: bold\"> Layer (type)                         </span>┃<span style=\"font-weight: bold\"> Output Shape                </span>┃<span style=\"font-weight: bold\">         Param # </span>┃\n",
       "┡━━━━━━━━━━━━━━━━━━━━━━━━━━━━━━━━━━━━━━╇━━━━━━━━━━━━━━━━━━━━━━━━━━━━━╇━━━━━━━━━━━━━━━━━┩\n",
       "│ input_layer (<span style=\"color: #0087ff; text-decoration-color: #0087ff\">InputLayer</span>)             │ (<span style=\"color: #00d7ff; text-decoration-color: #00d7ff\">None</span>, <span style=\"color: #00af00; text-decoration-color: #00af00\">1</span>, <span style=\"color: #00af00; text-decoration-color: #00af00\">77</span>)               │               <span style=\"color: #00af00; text-decoration-color: #00af00\">0</span> │\n",
       "├──────────────────────────────────────┼─────────────────────────────┼─────────────────┤\n",
       "│ lstm (<span style=\"color: #0087ff; text-decoration-color: #0087ff\">LSTM</span>)                          │ (<span style=\"color: #00d7ff; text-decoration-color: #00d7ff\">None</span>, <span style=\"color: #00af00; text-decoration-color: #00af00\">1</span>, <span style=\"color: #00af00; text-decoration-color: #00af00\">256</span>)              │         <span style=\"color: #00af00; text-decoration-color: #00af00\">342,016</span> │\n",
       "├──────────────────────────────────────┼─────────────────────────────┼─────────────────┤\n",
       "│ batch_normalization                  │ (<span style=\"color: #00d7ff; text-decoration-color: #00d7ff\">None</span>, <span style=\"color: #00af00; text-decoration-color: #00af00\">1</span>, <span style=\"color: #00af00; text-decoration-color: #00af00\">256</span>)              │           <span style=\"color: #00af00; text-decoration-color: #00af00\">1,024</span> │\n",
       "│ (<span style=\"color: #0087ff; text-decoration-color: #0087ff\">BatchNormalization</span>)                 │                             │                 │\n",
       "├──────────────────────────────────────┼─────────────────────────────┼─────────────────┤\n",
       "│ dropout (<span style=\"color: #0087ff; text-decoration-color: #0087ff\">Dropout</span>)                    │ (<span style=\"color: #00d7ff; text-decoration-color: #00d7ff\">None</span>, <span style=\"color: #00af00; text-decoration-color: #00af00\">1</span>, <span style=\"color: #00af00; text-decoration-color: #00af00\">256</span>)              │               <span style=\"color: #00af00; text-decoration-color: #00af00\">0</span> │\n",
       "├──────────────────────────────────────┼─────────────────────────────┼─────────────────┤\n",
       "│ lstm_1 (<span style=\"color: #0087ff; text-decoration-color: #0087ff\">LSTM</span>)                        │ (<span style=\"color: #00d7ff; text-decoration-color: #00d7ff\">None</span>, <span style=\"color: #00af00; text-decoration-color: #00af00\">128</span>)                 │         <span style=\"color: #00af00; text-decoration-color: #00af00\">197,120</span> │\n",
       "├──────────────────────────────────────┼─────────────────────────────┼─────────────────┤\n",
       "│ batch_normalization_1                │ (<span style=\"color: #00d7ff; text-decoration-color: #00d7ff\">None</span>, <span style=\"color: #00af00; text-decoration-color: #00af00\">128</span>)                 │             <span style=\"color: #00af00; text-decoration-color: #00af00\">512</span> │\n",
       "│ (<span style=\"color: #0087ff; text-decoration-color: #0087ff\">BatchNormalization</span>)                 │                             │                 │\n",
       "├──────────────────────────────────────┼─────────────────────────────┼─────────────────┤\n",
       "│ repeat_vector (<span style=\"color: #0087ff; text-decoration-color: #0087ff\">RepeatVector</span>)         │ (<span style=\"color: #00d7ff; text-decoration-color: #00d7ff\">None</span>, <span style=\"color: #00af00; text-decoration-color: #00af00\">1</span>, <span style=\"color: #00af00; text-decoration-color: #00af00\">128</span>)              │               <span style=\"color: #00af00; text-decoration-color: #00af00\">0</span> │\n",
       "├──────────────────────────────────────┼─────────────────────────────┼─────────────────┤\n",
       "│ lstm_2 (<span style=\"color: #0087ff; text-decoration-color: #0087ff\">LSTM</span>)                        │ (<span style=\"color: #00d7ff; text-decoration-color: #00d7ff\">None</span>, <span style=\"color: #00af00; text-decoration-color: #00af00\">1</span>, <span style=\"color: #00af00; text-decoration-color: #00af00\">128</span>)              │         <span style=\"color: #00af00; text-decoration-color: #00af00\">131,584</span> │\n",
       "├──────────────────────────────────────┼─────────────────────────────┼─────────────────┤\n",
       "│ batch_normalization_2                │ (<span style=\"color: #00d7ff; text-decoration-color: #00d7ff\">None</span>, <span style=\"color: #00af00; text-decoration-color: #00af00\">1</span>, <span style=\"color: #00af00; text-decoration-color: #00af00\">128</span>)              │             <span style=\"color: #00af00; text-decoration-color: #00af00\">512</span> │\n",
       "│ (<span style=\"color: #0087ff; text-decoration-color: #0087ff\">BatchNormalization</span>)                 │                             │                 │\n",
       "├──────────────────────────────────────┼─────────────────────────────┼─────────────────┤\n",
       "│ dropout_1 (<span style=\"color: #0087ff; text-decoration-color: #0087ff\">Dropout</span>)                  │ (<span style=\"color: #00d7ff; text-decoration-color: #00d7ff\">None</span>, <span style=\"color: #00af00; text-decoration-color: #00af00\">1</span>, <span style=\"color: #00af00; text-decoration-color: #00af00\">128</span>)              │               <span style=\"color: #00af00; text-decoration-color: #00af00\">0</span> │\n",
       "├──────────────────────────────────────┼─────────────────────────────┼─────────────────┤\n",
       "│ lstm_3 (<span style=\"color: #0087ff; text-decoration-color: #0087ff\">LSTM</span>)                        │ (<span style=\"color: #00d7ff; text-decoration-color: #00d7ff\">None</span>, <span style=\"color: #00af00; text-decoration-color: #00af00\">1</span>, <span style=\"color: #00af00; text-decoration-color: #00af00\">256</span>)              │         <span style=\"color: #00af00; text-decoration-color: #00af00\">394,240</span> │\n",
       "├──────────────────────────────────────┼─────────────────────────────┼─────────────────┤\n",
       "│ batch_normalization_3                │ (<span style=\"color: #00d7ff; text-decoration-color: #00d7ff\">None</span>, <span style=\"color: #00af00; text-decoration-color: #00af00\">1</span>, <span style=\"color: #00af00; text-decoration-color: #00af00\">256</span>)              │           <span style=\"color: #00af00; text-decoration-color: #00af00\">1,024</span> │\n",
       "│ (<span style=\"color: #0087ff; text-decoration-color: #0087ff\">BatchNormalization</span>)                 │                             │                 │\n",
       "├──────────────────────────────────────┼─────────────────────────────┼─────────────────┤\n",
       "│ time_distributed (<span style=\"color: #0087ff; text-decoration-color: #0087ff\">TimeDistributed</span>)   │ (<span style=\"color: #00d7ff; text-decoration-color: #00d7ff\">None</span>, <span style=\"color: #00af00; text-decoration-color: #00af00\">1</span>, <span style=\"color: #00af00; text-decoration-color: #00af00\">77</span>)               │          <span style=\"color: #00af00; text-decoration-color: #00af00\">19,789</span> │\n",
       "└──────────────────────────────────────┴─────────────────────────────┴─────────────────┘\n",
       "</pre>\n"
      ],
      "text/plain": [
       "┏━━━━━━━━━━━━━━━━━━━━━━━━━━━━━━━━━━━━━━┳━━━━━━━━━━━━━━━━━━━━━━━━━━━━━┳━━━━━━━━━━━━━━━━━┓\n",
       "┃\u001b[1m \u001b[0m\u001b[1mLayer (type)                        \u001b[0m\u001b[1m \u001b[0m┃\u001b[1m \u001b[0m\u001b[1mOutput Shape               \u001b[0m\u001b[1m \u001b[0m┃\u001b[1m \u001b[0m\u001b[1m        Param #\u001b[0m\u001b[1m \u001b[0m┃\n",
       "┡━━━━━━━━━━━━━━━━━━━━━━━━━━━━━━━━━━━━━━╇━━━━━━━━━━━━━━━━━━━━━━━━━━━━━╇━━━━━━━━━━━━━━━━━┩\n",
       "│ input_layer (\u001b[38;5;33mInputLayer\u001b[0m)             │ (\u001b[38;5;45mNone\u001b[0m, \u001b[38;5;34m1\u001b[0m, \u001b[38;5;34m77\u001b[0m)               │               \u001b[38;5;34m0\u001b[0m │\n",
       "├──────────────────────────────────────┼─────────────────────────────┼─────────────────┤\n",
       "│ lstm (\u001b[38;5;33mLSTM\u001b[0m)                          │ (\u001b[38;5;45mNone\u001b[0m, \u001b[38;5;34m1\u001b[0m, \u001b[38;5;34m256\u001b[0m)              │         \u001b[38;5;34m342,016\u001b[0m │\n",
       "├──────────────────────────────────────┼─────────────────────────────┼─────────────────┤\n",
       "│ batch_normalization                  │ (\u001b[38;5;45mNone\u001b[0m, \u001b[38;5;34m1\u001b[0m, \u001b[38;5;34m256\u001b[0m)              │           \u001b[38;5;34m1,024\u001b[0m │\n",
       "│ (\u001b[38;5;33mBatchNormalization\u001b[0m)                 │                             │                 │\n",
       "├──────────────────────────────────────┼─────────────────────────────┼─────────────────┤\n",
       "│ dropout (\u001b[38;5;33mDropout\u001b[0m)                    │ (\u001b[38;5;45mNone\u001b[0m, \u001b[38;5;34m1\u001b[0m, \u001b[38;5;34m256\u001b[0m)              │               \u001b[38;5;34m0\u001b[0m │\n",
       "├──────────────────────────────────────┼─────────────────────────────┼─────────────────┤\n",
       "│ lstm_1 (\u001b[38;5;33mLSTM\u001b[0m)                        │ (\u001b[38;5;45mNone\u001b[0m, \u001b[38;5;34m128\u001b[0m)                 │         \u001b[38;5;34m197,120\u001b[0m │\n",
       "├──────────────────────────────────────┼─────────────────────────────┼─────────────────┤\n",
       "│ batch_normalization_1                │ (\u001b[38;5;45mNone\u001b[0m, \u001b[38;5;34m128\u001b[0m)                 │             \u001b[38;5;34m512\u001b[0m │\n",
       "│ (\u001b[38;5;33mBatchNormalization\u001b[0m)                 │                             │                 │\n",
       "├──────────────────────────────────────┼─────────────────────────────┼─────────────────┤\n",
       "│ repeat_vector (\u001b[38;5;33mRepeatVector\u001b[0m)         │ (\u001b[38;5;45mNone\u001b[0m, \u001b[38;5;34m1\u001b[0m, \u001b[38;5;34m128\u001b[0m)              │               \u001b[38;5;34m0\u001b[0m │\n",
       "├──────────────────────────────────────┼─────────────────────────────┼─────────────────┤\n",
       "│ lstm_2 (\u001b[38;5;33mLSTM\u001b[0m)                        │ (\u001b[38;5;45mNone\u001b[0m, \u001b[38;5;34m1\u001b[0m, \u001b[38;5;34m128\u001b[0m)              │         \u001b[38;5;34m131,584\u001b[0m │\n",
       "├──────────────────────────────────────┼─────────────────────────────┼─────────────────┤\n",
       "│ batch_normalization_2                │ (\u001b[38;5;45mNone\u001b[0m, \u001b[38;5;34m1\u001b[0m, \u001b[38;5;34m128\u001b[0m)              │             \u001b[38;5;34m512\u001b[0m │\n",
       "│ (\u001b[38;5;33mBatchNormalization\u001b[0m)                 │                             │                 │\n",
       "├──────────────────────────────────────┼─────────────────────────────┼─────────────────┤\n",
       "│ dropout_1 (\u001b[38;5;33mDropout\u001b[0m)                  │ (\u001b[38;5;45mNone\u001b[0m, \u001b[38;5;34m1\u001b[0m, \u001b[38;5;34m128\u001b[0m)              │               \u001b[38;5;34m0\u001b[0m │\n",
       "├──────────────────────────────────────┼─────────────────────────────┼─────────────────┤\n",
       "│ lstm_3 (\u001b[38;5;33mLSTM\u001b[0m)                        │ (\u001b[38;5;45mNone\u001b[0m, \u001b[38;5;34m1\u001b[0m, \u001b[38;5;34m256\u001b[0m)              │         \u001b[38;5;34m394,240\u001b[0m │\n",
       "├──────────────────────────────────────┼─────────────────────────────┼─────────────────┤\n",
       "│ batch_normalization_3                │ (\u001b[38;5;45mNone\u001b[0m, \u001b[38;5;34m1\u001b[0m, \u001b[38;5;34m256\u001b[0m)              │           \u001b[38;5;34m1,024\u001b[0m │\n",
       "│ (\u001b[38;5;33mBatchNormalization\u001b[0m)                 │                             │                 │\n",
       "├──────────────────────────────────────┼─────────────────────────────┼─────────────────┤\n",
       "│ time_distributed (\u001b[38;5;33mTimeDistributed\u001b[0m)   │ (\u001b[38;5;45mNone\u001b[0m, \u001b[38;5;34m1\u001b[0m, \u001b[38;5;34m77\u001b[0m)               │          \u001b[38;5;34m19,789\u001b[0m │\n",
       "└──────────────────────────────────────┴─────────────────────────────┴─────────────────┘\n"
      ]
     },
     "metadata": {},
     "output_type": "display_data"
    },
    {
     "data": {
      "text/html": [
       "<pre style=\"white-space:pre;overflow-x:auto;line-height:normal;font-family:Menlo,'DejaVu Sans Mono',consolas,'Courier New',monospace\"><span style=\"font-weight: bold\"> Total params: </span><span style=\"color: #00af00; text-decoration-color: #00af00\">1,087,821</span> (4.15 MB)\n",
       "</pre>\n"
      ],
      "text/plain": [
       "\u001b[1m Total params: \u001b[0m\u001b[38;5;34m1,087,821\u001b[0m (4.15 MB)\n"
      ]
     },
     "metadata": {},
     "output_type": "display_data"
    },
    {
     "data": {
      "text/html": [
       "<pre style=\"white-space:pre;overflow-x:auto;line-height:normal;font-family:Menlo,'DejaVu Sans Mono',consolas,'Courier New',monospace\"><span style=\"font-weight: bold\"> Trainable params: </span><span style=\"color: #00af00; text-decoration-color: #00af00\">1,086,285</span> (4.14 MB)\n",
       "</pre>\n"
      ],
      "text/plain": [
       "\u001b[1m Trainable params: \u001b[0m\u001b[38;5;34m1,086,285\u001b[0m (4.14 MB)\n"
      ]
     },
     "metadata": {},
     "output_type": "display_data"
    },
    {
     "data": {
      "text/html": [
       "<pre style=\"white-space:pre;overflow-x:auto;line-height:normal;font-family:Menlo,'DejaVu Sans Mono',consolas,'Courier New',monospace\"><span style=\"font-weight: bold\"> Non-trainable params: </span><span style=\"color: #00af00; text-decoration-color: #00af00\">1,536</span> (6.00 KB)\n",
       "</pre>\n"
      ],
      "text/plain": [
       "\u001b[1m Non-trainable params: \u001b[0m\u001b[38;5;34m1,536\u001b[0m (6.00 KB)\n"
      ]
     },
     "metadata": {},
     "output_type": "display_data"
    }
   ],
   "source": [
    "# Compile and train the autoencoder (on benign data only)\n",
    "print(\"Training autoencoder on benign data only...\")\n",
    "input_shape = (X_train_benign_reshaped.shape[1], X_train_benign_reshaped.shape[2])  # (time steps, features)\n",
    "autoencoder, encoder = create_autoencoder(\n",
    "    input_shape=input_shape,\n",
    "    encoding_dim=128,\n",
    "    l2_reg=0.001,\n",
    "    dropout_rate=0.3\n",
    ")\n",
    "optimizer = tf.keras.optimizers.Adam(learning_rate=0.001)\n",
    "autoencoder.compile(optimizer=optimizer, loss='mae', metrics=['mse'])\n",
    "autoencoder.summary()\n"
   ]
  },
  {
   "cell_type": "code",
   "execution_count": 37,
   "metadata": {
    "execution": {
     "iopub.execute_input": "2025-05-18T16:45:41.494316Z",
     "iopub.status.busy": "2025-05-18T16:45:41.494076Z",
     "iopub.status.idle": "2025-05-18T16:45:41.498598Z",
     "shell.execute_reply": "2025-05-18T16:45:41.497930Z",
     "shell.execute_reply.started": "2025-05-18T16:45:41.494292Z"
    },
    "trusted": true
   },
   "outputs": [],
   "source": [
    "callbacks = [\n",
    "    EarlyStopping(\n",
    "        monitor='val_loss',\n",
    "        patience=5,\n",
    "        restore_best_weights=True,\n",
    "        verbose=1\n",
    "    ),\n",
    "    ModelCheckpoint(\n",
    "        'best_autoencoder_model.keras',\n",
    "        monitor='val_loss',\n",
    "        save_best_only=True,\n",
    "        verbose=1\n",
    "    ),\n",
    "    ReduceLROnPlateau(\n",
    "        monitor='val_loss',\n",
    "        factor=0.5,\n",
    "        patience=3,\n",
    "        min_lr=0.00001,\n",
    "        verbose=1\n",
    "    )\n",
    "]\n"
   ]
  },
  {
   "cell_type": "code",
   "execution_count": 38,
   "metadata": {
    "execution": {
     "iopub.execute_input": "2025-05-18T16:45:41.500024Z",
     "iopub.status.busy": "2025-05-18T16:45:41.499403Z",
     "iopub.status.idle": "2025-05-18T16:47:00.028875Z",
     "shell.execute_reply": "2025-05-18T16:47:00.028325Z",
     "shell.execute_reply.started": "2025-05-18T16:45:41.500003Z"
    },
    "trusted": true
   },
   "outputs": [
    {
     "name": "stdout",
     "output_type": "stream",
     "text": [
      "Training autoencoder on 71028 benign samples...\n",
      "Epoch 1/50\n"
     ]
    },
    {
     "name": "stderr",
     "output_type": "stream",
     "text": [
      "WARNING: All log messages before absl::InitializeLog() is called are written to STDERR\n",
      "I0000 00:00:1747586751.488696     180 service.cc:148] XLA service 0x4f91b530 initialized for platform CUDA (this does not guarantee that XLA will be used). Devices:\n",
      "I0000 00:00:1747586751.489989     180 service.cc:156]   StreamExecutor device (0): Tesla T4, Compute Capability 7.5\n",
      "I0000 00:00:1747586751.490011     180 service.cc:156]   StreamExecutor device (1): Tesla T4, Compute Capability 7.5\n",
      "I0000 00:00:1747586752.668945     180 cuda_dnn.cc:529] Loaded cuDNN version 90300\n"
     ]
    },
    {
     "name": "stdout",
     "output_type": "stream",
     "text": [
      "\u001b[1m 38/222\u001b[0m \u001b[32m━━━\u001b[0m\u001b[37m━━━━━━━━━━━━━━━━━\u001b[0m \u001b[1m0s\u001b[0m 4ms/step - loss: 1.3332 - mse: 0.8153 "
     ]
    },
    {
     "name": "stderr",
     "output_type": "stream",
     "text": [
      "I0000 00:00:1747586756.641642     180 device_compiler.h:188] Compiled cluster using XLA!  This line is logged at most once for the lifetime of the process.\n"
     ]
    },
    {
     "name": "stdout",
     "output_type": "stream",
     "text": [
      "\u001b[1m222/222\u001b[0m \u001b[32m━━━━━━━━━━━━━━━━━━━━\u001b[0m\u001b[37m\u001b[0m \u001b[1m0s\u001b[0m 24ms/step - loss: 0.7085 - mse: 0.3298\n",
      "Epoch 1: val_loss improved from inf to 0.10427, saving model to best_autoencoder_model.keras\n",
      "\u001b[1m222/222\u001b[0m \u001b[32m━━━━━━━━━━━━━━━━━━━━\u001b[0m\u001b[37m\u001b[0m \u001b[1m24s\u001b[0m 39ms/step - loss: 0.7070 - mse: 0.3289 - val_loss: 0.1043 - val_mse: 0.0180 - learning_rate: 0.0010\n",
      "Epoch 2/50\n",
      "\u001b[1m215/222\u001b[0m \u001b[32m━━━━━━━━━━━━━━━━━━━\u001b[0m\u001b[37m━\u001b[0m \u001b[1m0s\u001b[0m 3ms/step - loss: 0.0770 - mse: 0.0096\n",
      "Epoch 2: val_loss improved from 0.10427 to 0.05942, saving model to best_autoencoder_model.keras\n",
      "\u001b[1m222/222\u001b[0m \u001b[32m━━━━━━━━━━━━━━━━━━━━\u001b[0m\u001b[37m\u001b[0m \u001b[1m1s\u001b[0m 5ms/step - loss: 0.0766 - mse: 0.0095 - val_loss: 0.0594 - val_mse: 0.0161 - learning_rate: 0.0010\n",
      "Epoch 3/50\n",
      "\u001b[1m216/222\u001b[0m \u001b[32m━━━━━━━━━━━━━━━━━━━\u001b[0m\u001b[37m━\u001b[0m \u001b[1m0s\u001b[0m 3ms/step - loss: 0.0413 - mse: 0.0068\n",
      "Epoch 3: val_loss improved from 0.05942 to 0.04048, saving model to best_autoencoder_model.keras\n",
      "\u001b[1m222/222\u001b[0m \u001b[32m━━━━━━━━━━━━━━━━━━━━\u001b[0m\u001b[37m\u001b[0m \u001b[1m1s\u001b[0m 5ms/step - loss: 0.0412 - mse: 0.0068 - val_loss: 0.0405 - val_mse: 0.0099 - learning_rate: 0.0010\n",
      "Epoch 4/50\n",
      "\u001b[1m210/222\u001b[0m \u001b[32m━━━━━━━━━━━━━━━━━━\u001b[0m\u001b[37m━━\u001b[0m \u001b[1m0s\u001b[0m 4ms/step - loss: 0.0350 - mse: 0.0068\n",
      "Epoch 4: val_loss improved from 0.04048 to 0.02925, saving model to best_autoencoder_model.keras\n",
      "\u001b[1m222/222\u001b[0m \u001b[32m━━━━━━━━━━━━━━━━━━━━\u001b[0m\u001b[37m\u001b[0m \u001b[1m1s\u001b[0m 5ms/step - loss: 0.0350 - mse: 0.0068 - val_loss: 0.0292 - val_mse: 0.0041 - learning_rate: 0.0010\n",
      "Epoch 5/50\n",
      "\u001b[1m214/222\u001b[0m \u001b[32m━━━━━━━━━━━━━━━━━━━\u001b[0m\u001b[37m━\u001b[0m \u001b[1m0s\u001b[0m 4ms/step - loss: 0.0313 - mse: 0.0064\n",
      "Epoch 5: val_loss improved from 0.02925 to 0.02832, saving model to best_autoencoder_model.keras\n",
      "\u001b[1m222/222\u001b[0m \u001b[32m━━━━━━━━━━━━━━━━━━━━\u001b[0m\u001b[37m\u001b[0m \u001b[1m1s\u001b[0m 5ms/step - loss: 0.0314 - mse: 0.0064 - val_loss: 0.0283 - val_mse: 0.0024 - learning_rate: 0.0010\n",
      "Epoch 6/50\n",
      "\u001b[1m219/222\u001b[0m \u001b[32m━━━━━━━━━━━━━━━━━━━\u001b[0m\u001b[37m━\u001b[0m \u001b[1m0s\u001b[0m 4ms/step - loss: 0.0316 - mse: 0.0059\n",
      "Epoch 6: val_loss improved from 0.02832 to 0.02531, saving model to best_autoencoder_model.keras\n",
      "\u001b[1m222/222\u001b[0m \u001b[32m━━━━━━━━━━━━━━━━━━━━\u001b[0m\u001b[37m\u001b[0m \u001b[1m1s\u001b[0m 5ms/step - loss: 0.0317 - mse: 0.0059 - val_loss: 0.0253 - val_mse: 0.0024 - learning_rate: 0.0010\n",
      "Epoch 7/50\n",
      "\u001b[1m218/222\u001b[0m \u001b[32m━━━━━━━━━━━━━━━━━━━\u001b[0m\u001b[37m━\u001b[0m \u001b[1m0s\u001b[0m 4ms/step - loss: 0.0311 - mse: 0.0064\n",
      "Epoch 7: val_loss improved from 0.02531 to 0.02116, saving model to best_autoencoder_model.keras\n",
      "\u001b[1m222/222\u001b[0m \u001b[32m━━━━━━━━━━━━━━━━━━━━\u001b[0m\u001b[37m\u001b[0m \u001b[1m1s\u001b[0m 5ms/step - loss: 0.0311 - mse: 0.0064 - val_loss: 0.0212 - val_mse: 0.0021 - learning_rate: 0.0010\n",
      "Epoch 8/50\n",
      "\u001b[1m218/222\u001b[0m \u001b[32m━━━━━━━━━━━━━━━━━━━\u001b[0m\u001b[37m━\u001b[0m \u001b[1m0s\u001b[0m 4ms/step - loss: 0.0311 - mse: 0.0076\n",
      "Epoch 8: val_loss improved from 0.02116 to 0.02074, saving model to best_autoencoder_model.keras\n",
      "\u001b[1m222/222\u001b[0m \u001b[32m━━━━━━━━━━━━━━━━━━━━\u001b[0m\u001b[37m\u001b[0m \u001b[1m1s\u001b[0m 5ms/step - loss: 0.0310 - mse: 0.0076 - val_loss: 0.0207 - val_mse: 0.0022 - learning_rate: 0.0010\n",
      "Epoch 9/50\n",
      "\u001b[1m218/222\u001b[0m \u001b[32m━━━━━━━━━━━━━━━━━━━\u001b[0m\u001b[37m━\u001b[0m \u001b[1m0s\u001b[0m 4ms/step - loss: 0.0279 - mse: 0.0063\n",
      "Epoch 9: val_loss improved from 0.02074 to 0.01946, saving model to best_autoencoder_model.keras\n",
      "\u001b[1m222/222\u001b[0m \u001b[32m━━━━━━━━━━━━━━━━━━━━\u001b[0m\u001b[37m\u001b[0m \u001b[1m1s\u001b[0m 5ms/step - loss: 0.0279 - mse: 0.0063 - val_loss: 0.0195 - val_mse: 0.0020 - learning_rate: 0.0010\n",
      "Epoch 10/50\n",
      "\u001b[1m220/222\u001b[0m \u001b[32m━━━━━━━━━━━━━━━━━━━\u001b[0m\u001b[37m━\u001b[0m \u001b[1m0s\u001b[0m 4ms/step - loss: 0.0251 - mse: 0.0053\n",
      "Epoch 10: val_loss did not improve from 0.01946\n",
      "\u001b[1m222/222\u001b[0m \u001b[32m━━━━━━━━━━━━━━━━━━━━\u001b[0m\u001b[37m\u001b[0m \u001b[1m1s\u001b[0m 4ms/step - loss: 0.0251 - mse: 0.0053 - val_loss: 0.0559 - val_mse: 0.0451 - learning_rate: 0.0010\n",
      "Epoch 11/50\n",
      "\u001b[1m213/222\u001b[0m \u001b[32m━━━━━━━━━━━━━━━━━━━\u001b[0m\u001b[37m━\u001b[0m \u001b[1m0s\u001b[0m 4ms/step - loss: 0.0289 - mse: 0.0062\n",
      "Epoch 11: val_loss did not improve from 0.01946\n",
      "\u001b[1m222/222\u001b[0m \u001b[32m━━━━━━━━━━━━━━━━━━━━\u001b[0m\u001b[37m\u001b[0m \u001b[1m1s\u001b[0m 4ms/step - loss: 0.0289 - mse: 0.0062 - val_loss: 0.0217 - val_mse: 0.0023 - learning_rate: 0.0010\n",
      "Epoch 12/50\n",
      "\u001b[1m216/222\u001b[0m \u001b[32m━━━━━━━━━━━━━━━━━━━\u001b[0m\u001b[37m━\u001b[0m \u001b[1m0s\u001b[0m 4ms/step - loss: 0.0257 - mse: 0.0059\n",
      "Epoch 12: val_loss did not improve from 0.01946\n",
      "\n",
      "Epoch 12: ReduceLROnPlateau reducing learning rate to 0.0005000000237487257.\n",
      "\u001b[1m222/222\u001b[0m \u001b[32m━━━━━━━━━━━━━━━━━━━━\u001b[0m\u001b[37m\u001b[0m \u001b[1m1s\u001b[0m 4ms/step - loss: 0.0258 - mse: 0.0059 - val_loss: 0.0219 - val_mse: 0.0024 - learning_rate: 0.0010\n",
      "Epoch 13/50\n",
      "\u001b[1m214/222\u001b[0m \u001b[32m━━━━━━━━━━━━━━━━━━━\u001b[0m\u001b[37m━\u001b[0m \u001b[1m0s\u001b[0m 4ms/step - loss: 0.0242 - mse: 0.0046\n",
      "Epoch 13: val_loss improved from 0.01946 to 0.01602, saving model to best_autoencoder_model.keras\n",
      "\u001b[1m222/222\u001b[0m \u001b[32m━━━━━━━━━━━━━━━━━━━━\u001b[0m\u001b[37m\u001b[0m \u001b[1m1s\u001b[0m 5ms/step - loss: 0.0241 - mse: 0.0045 - val_loss: 0.0160 - val_mse: 0.0022 - learning_rate: 5.0000e-04\n",
      "Epoch 14/50\n",
      "\u001b[1m211/222\u001b[0m \u001b[32m━━━━━━━━━━━━━━━━━━━\u001b[0m\u001b[37m━\u001b[0m \u001b[1m0s\u001b[0m 4ms/step - loss: 0.0205 - mse: 0.0038\n",
      "Epoch 14: val_loss improved from 0.01602 to 0.01478, saving model to best_autoencoder_model.keras\n",
      "\u001b[1m222/222\u001b[0m \u001b[32m━━━━━━━━━━━━━━━━━━━━\u001b[0m\u001b[37m\u001b[0m \u001b[1m1s\u001b[0m 5ms/step - loss: 0.0205 - mse: 0.0038 - val_loss: 0.0148 - val_mse: 0.0020 - learning_rate: 5.0000e-04\n",
      "Epoch 15/50\n",
      "\u001b[1m211/222\u001b[0m \u001b[32m━━━━━━━━━━━━━━━━━━━\u001b[0m\u001b[37m━\u001b[0m \u001b[1m0s\u001b[0m 4ms/step - loss: 0.0197 - mse: 0.0039\n",
      "Epoch 15: val_loss improved from 0.01478 to 0.01411, saving model to best_autoencoder_model.keras\n",
      "\u001b[1m222/222\u001b[0m \u001b[32m━━━━━━━━━━━━━━━━━━━━\u001b[0m\u001b[37m\u001b[0m \u001b[1m1s\u001b[0m 5ms/step - loss: 0.0198 - mse: 0.0039 - val_loss: 0.0141 - val_mse: 0.0019 - learning_rate: 5.0000e-04\n",
      "Epoch 16/50\n",
      "\u001b[1m211/222\u001b[0m \u001b[32m━━━━━━━━━━━━━━━━━━━\u001b[0m\u001b[37m━\u001b[0m \u001b[1m0s\u001b[0m 4ms/step - loss: 0.0196 - mse: 0.0041\n",
      "Epoch 16: val_loss improved from 0.01411 to 0.01409, saving model to best_autoencoder_model.keras\n",
      "\u001b[1m222/222\u001b[0m \u001b[32m━━━━━━━━━━━━━━━━━━━━\u001b[0m\u001b[37m\u001b[0m \u001b[1m1s\u001b[0m 5ms/step - loss: 0.0197 - mse: 0.0041 - val_loss: 0.0141 - val_mse: 0.0019 - learning_rate: 5.0000e-04\n",
      "Epoch 17/50\n",
      "\u001b[1m211/222\u001b[0m \u001b[32m━━━━━━━━━━━━━━━━━━━\u001b[0m\u001b[37m━\u001b[0m \u001b[1m0s\u001b[0m 4ms/step - loss: 0.0194 - mse: 0.0041\n",
      "Epoch 17: val_loss did not improve from 0.01409\n",
      "\u001b[1m222/222\u001b[0m \u001b[32m━━━━━━━━━━━━━━━━━━━━\u001b[0m\u001b[37m\u001b[0m \u001b[1m1s\u001b[0m 4ms/step - loss: 0.0194 - mse: 0.0041 - val_loss: 0.0143 - val_mse: 0.0019 - learning_rate: 5.0000e-04\n",
      "Epoch 18/50\n",
      "\u001b[1m211/222\u001b[0m \u001b[32m━━━━━━━━━━━━━━━━━━━\u001b[0m\u001b[37m━\u001b[0m \u001b[1m0s\u001b[0m 4ms/step - loss: 0.0193 - mse: 0.0040\n",
      "Epoch 18: val_loss improved from 0.01409 to 0.01355, saving model to best_autoencoder_model.keras\n",
      "\u001b[1m222/222\u001b[0m \u001b[32m━━━━━━━━━━━━━━━━━━━━\u001b[0m\u001b[37m\u001b[0m \u001b[1m1s\u001b[0m 5ms/step - loss: 0.0193 - mse: 0.0040 - val_loss: 0.0136 - val_mse: 0.0019 - learning_rate: 5.0000e-04\n",
      "Epoch 19/50\n",
      "\u001b[1m211/222\u001b[0m \u001b[32m━━━━━━━━━━━━━━━━━━━\u001b[0m\u001b[37m━\u001b[0m \u001b[1m0s\u001b[0m 4ms/step - loss: 0.0186 - mse: 0.0038\n",
      "Epoch 19: val_loss improved from 0.01355 to 0.01276, saving model to best_autoencoder_model.keras\n",
      "\u001b[1m222/222\u001b[0m \u001b[32m━━━━━━━━━━━━━━━━━━━━\u001b[0m\u001b[37m\u001b[0m \u001b[1m1s\u001b[0m 5ms/step - loss: 0.0186 - mse: 0.0038 - val_loss: 0.0128 - val_mse: 0.0018 - learning_rate: 5.0000e-04\n",
      "Epoch 20/50\n",
      "\u001b[1m219/222\u001b[0m \u001b[32m━━━━━━━━━━━━━━━━━━━\u001b[0m\u001b[37m━\u001b[0m \u001b[1m0s\u001b[0m 4ms/step - loss: 0.0187 - mse: 0.0041\n",
      "Epoch 20: val_loss did not improve from 0.01276\n",
      "\u001b[1m222/222\u001b[0m \u001b[32m━━━━━━━━━━━━━━━━━━━━\u001b[0m\u001b[37m\u001b[0m \u001b[1m1s\u001b[0m 5ms/step - loss: 0.0187 - mse: 0.0041 - val_loss: 0.0129 - val_mse: 0.0018 - learning_rate: 5.0000e-04\n",
      "Epoch 21/50\n",
      "\u001b[1m209/222\u001b[0m \u001b[32m━━━━━━━━━━━━━━━━━━\u001b[0m\u001b[37m━━\u001b[0m \u001b[1m0s\u001b[0m 4ms/step - loss: 0.0196 - mse: 0.0045\n",
      "Epoch 21: val_loss improved from 0.01276 to 0.01253, saving model to best_autoencoder_model.keras\n",
      "\u001b[1m222/222\u001b[0m \u001b[32m━━━━━━━━━━━━━━━━━━━━\u001b[0m\u001b[37m\u001b[0m \u001b[1m1s\u001b[0m 5ms/step - loss: 0.0195 - mse: 0.0045 - val_loss: 0.0125 - val_mse: 0.0018 - learning_rate: 5.0000e-04\n",
      "Epoch 22/50\n",
      "\u001b[1m209/222\u001b[0m \u001b[32m━━━━━━━━━━━━━━━━━━\u001b[0m\u001b[37m━━\u001b[0m \u001b[1m0s\u001b[0m 4ms/step - loss: 0.0180 - mse: 0.0037\n",
      "Epoch 22: val_loss did not improve from 0.01253\n",
      "\u001b[1m222/222\u001b[0m \u001b[32m━━━━━━━━━━━━━━━━━━━━\u001b[0m\u001b[37m\u001b[0m \u001b[1m1s\u001b[0m 4ms/step - loss: 0.0180 - mse: 0.0037 - val_loss: 0.0129 - val_mse: 0.0018 - learning_rate: 5.0000e-04\n",
      "Epoch 23/50\n",
      "\u001b[1m211/222\u001b[0m \u001b[32m━━━━━━━━━━━━━━━━━━━\u001b[0m\u001b[37m━\u001b[0m \u001b[1m0s\u001b[0m 4ms/step - loss: 0.0192 - mse: 0.0044\n",
      "Epoch 23: val_loss did not improve from 0.01253\n",
      "\u001b[1m222/222\u001b[0m \u001b[32m━━━━━━━━━━━━━━━━━━━━\u001b[0m\u001b[37m\u001b[0m \u001b[1m1s\u001b[0m 4ms/step - loss: 0.0192 - mse: 0.0044 - val_loss: 0.0132 - val_mse: 0.0020 - learning_rate: 5.0000e-04\n",
      "Epoch 24/50\n",
      "\u001b[1m213/222\u001b[0m \u001b[32m━━━━━━━━━━━━━━━━━━━\u001b[0m\u001b[37m━\u001b[0m \u001b[1m0s\u001b[0m 4ms/step - loss: 0.0180 - mse: 0.0039\n",
      "Epoch 24: val_loss improved from 0.01253 to 0.01245, saving model to best_autoencoder_model.keras\n",
      "\n",
      "Epoch 24: ReduceLROnPlateau reducing learning rate to 0.0002500000118743628.\n",
      "\u001b[1m222/222\u001b[0m \u001b[32m━━━━━━━━━━━━━━━━━━━━\u001b[0m\u001b[37m\u001b[0m \u001b[1m1s\u001b[0m 5ms/step - loss: 0.0180 - mse: 0.0039 - val_loss: 0.0124 - val_mse: 0.0019 - learning_rate: 5.0000e-04\n",
      "Epoch 25/50\n",
      "\u001b[1m211/222\u001b[0m \u001b[32m━━━━━━━━━━━━━━━━━━━\u001b[0m\u001b[37m━\u001b[0m \u001b[1m0s\u001b[0m 4ms/step - loss: 0.0159 - mse: 0.0030\n",
      "Epoch 25: val_loss improved from 0.01245 to 0.01163, saving model to best_autoencoder_model.keras\n",
      "\u001b[1m222/222\u001b[0m \u001b[32m━━━━━━━━━━━━━━━━━━━━\u001b[0m\u001b[37m\u001b[0m \u001b[1m1s\u001b[0m 5ms/step - loss: 0.0158 - mse: 0.0030 - val_loss: 0.0116 - val_mse: 0.0020 - learning_rate: 2.5000e-04\n",
      "Epoch 26/50\n",
      "\u001b[1m218/222\u001b[0m \u001b[32m━━━━━━━━━━━━━━━━━━━\u001b[0m\u001b[37m━\u001b[0m \u001b[1m0s\u001b[0m 4ms/step - loss: 0.0148 - mse: 0.0026\n",
      "Epoch 26: val_loss improved from 0.01163 to 0.01124, saving model to best_autoencoder_model.keras\n",
      "\u001b[1m222/222\u001b[0m \u001b[32m━━━━━━━━━━━━━━━━━━━━\u001b[0m\u001b[37m\u001b[0m \u001b[1m1s\u001b[0m 5ms/step - loss: 0.0148 - mse: 0.0026 - val_loss: 0.0112 - val_mse: 0.0020 - learning_rate: 2.5000e-04\n",
      "Epoch 27/50\n",
      "\u001b[1m215/222\u001b[0m \u001b[32m━━━━━━━━━━━━━━━━━━━\u001b[0m\u001b[37m━\u001b[0m \u001b[1m0s\u001b[0m 4ms/step - loss: 0.0146 - mse: 0.0027\n",
      "Epoch 27: val_loss improved from 0.01124 to 0.01078, saving model to best_autoencoder_model.keras\n",
      "\u001b[1m222/222\u001b[0m \u001b[32m━━━━━━━━━━━━━━━━━━━━\u001b[0m\u001b[37m\u001b[0m \u001b[1m1s\u001b[0m 6ms/step - loss: 0.0146 - mse: 0.0027 - val_loss: 0.0108 - val_mse: 0.0018 - learning_rate: 2.5000e-04\n",
      "Epoch 28/50\n",
      "\u001b[1m214/222\u001b[0m \u001b[32m━━━━━━━━━━━━━━━━━━━\u001b[0m\u001b[37m━\u001b[0m \u001b[1m0s\u001b[0m 4ms/step - loss: 0.0143 - mse: 0.0026\n",
      "Epoch 28: val_loss improved from 0.01078 to 0.01034, saving model to best_autoencoder_model.keras\n",
      "\u001b[1m222/222\u001b[0m \u001b[32m━━━━━━━━━━━━━━━━━━━━\u001b[0m\u001b[37m\u001b[0m \u001b[1m1s\u001b[0m 5ms/step - loss: 0.0143 - mse: 0.0026 - val_loss: 0.0103 - val_mse: 0.0018 - learning_rate: 2.5000e-04\n",
      "Epoch 29/50\n",
      "\u001b[1m218/222\u001b[0m \u001b[32m━━━━━━━━━━━━━━━━━━━\u001b[0m\u001b[37m━\u001b[0m \u001b[1m0s\u001b[0m 4ms/step - loss: 0.0147 - mse: 0.0028\n",
      "Epoch 29: val_loss improved from 0.01034 to 0.01025, saving model to best_autoencoder_model.keras\n",
      "\u001b[1m222/222\u001b[0m \u001b[32m━━━━━━━━━━━━━━━━━━━━\u001b[0m\u001b[37m\u001b[0m \u001b[1m1s\u001b[0m 5ms/step - loss: 0.0147 - mse: 0.0028 - val_loss: 0.0102 - val_mse: 0.0018 - learning_rate: 2.5000e-04\n",
      "Epoch 30/50\n",
      "\u001b[1m221/222\u001b[0m \u001b[32m━━━━━━━━━━━━━━━━━━━\u001b[0m\u001b[37m━\u001b[0m \u001b[1m0s\u001b[0m 4ms/step - loss: 0.0144 - mse: 0.0028\n",
      "Epoch 30: val_loss improved from 0.01025 to 0.01009, saving model to best_autoencoder_model.keras\n",
      "\u001b[1m222/222\u001b[0m \u001b[32m━━━━━━━━━━━━━━━━━━━━\u001b[0m\u001b[37m\u001b[0m \u001b[1m1s\u001b[0m 5ms/step - loss: 0.0144 - mse: 0.0028 - val_loss: 0.0101 - val_mse: 0.0018 - learning_rate: 2.5000e-04\n",
      "Epoch 31/50\n",
      "\u001b[1m211/222\u001b[0m \u001b[32m━━━━━━━━━━━━━━━━━━━\u001b[0m\u001b[37m━\u001b[0m \u001b[1m0s\u001b[0m 4ms/step - loss: 0.0142 - mse: 0.0028\n",
      "Epoch 31: val_loss improved from 0.01009 to 0.00990, saving model to best_autoencoder_model.keras\n",
      "\u001b[1m222/222\u001b[0m \u001b[32m━━━━━━━━━━━━━━━━━━━━\u001b[0m\u001b[37m\u001b[0m \u001b[1m1s\u001b[0m 5ms/step - loss: 0.0142 - mse: 0.0028 - val_loss: 0.0099 - val_mse: 0.0018 - learning_rate: 2.5000e-04\n",
      "Epoch 32/50\n",
      "\u001b[1m211/222\u001b[0m \u001b[32m━━━━━━━━━━━━━━━━━━━\u001b[0m\u001b[37m━\u001b[0m \u001b[1m0s\u001b[0m 4ms/step - loss: 0.0141 - mse: 0.0028\n",
      "Epoch 32: val_loss improved from 0.00990 to 0.00981, saving model to best_autoencoder_model.keras\n",
      "\u001b[1m222/222\u001b[0m \u001b[32m━━━━━━━━━━━━━━━━━━━━\u001b[0m\u001b[37m\u001b[0m \u001b[1m1s\u001b[0m 5ms/step - loss: 0.0141 - mse: 0.0028 - val_loss: 0.0098 - val_mse: 0.0018 - learning_rate: 2.5000e-04\n",
      "Epoch 33/50\n",
      "\u001b[1m211/222\u001b[0m \u001b[32m━━━━━━━━━━━━━━━━━━━\u001b[0m\u001b[37m━\u001b[0m \u001b[1m0s\u001b[0m 4ms/step - loss: 0.0137 - mse: 0.0026\n",
      "Epoch 33: val_loss did not improve from 0.00981\n",
      "\u001b[1m222/222\u001b[0m \u001b[32m━━━━━━━━━━━━━━━━━━━━\u001b[0m\u001b[37m\u001b[0m \u001b[1m1s\u001b[0m 4ms/step - loss: 0.0137 - mse: 0.0026 - val_loss: 0.0100 - val_mse: 0.0019 - learning_rate: 2.5000e-04\n",
      "Epoch 34/50\n",
      "\u001b[1m212/222\u001b[0m \u001b[32m━━━━━━━━━━━━━━━━━━━\u001b[0m\u001b[37m━\u001b[0m \u001b[1m0s\u001b[0m 4ms/step - loss: 0.0136 - mse: 0.0027\n",
      "Epoch 34: val_loss did not improve from 0.00981\n",
      "\n",
      "Epoch 34: ReduceLROnPlateau reducing learning rate to 0.0001250000059371814.\n",
      "\u001b[1m222/222\u001b[0m \u001b[32m━━━━━━━━━━━━━━━━━━━━\u001b[0m\u001b[37m\u001b[0m \u001b[1m1s\u001b[0m 4ms/step - loss: 0.0136 - mse: 0.0027 - val_loss: 0.0099 - val_mse: 0.0019 - learning_rate: 2.5000e-04\n",
      "Epoch 35/50\n",
      "\u001b[1m211/222\u001b[0m \u001b[32m━━━━━━━━━━━━━━━━━━━\u001b[0m\u001b[37m━\u001b[0m \u001b[1m0s\u001b[0m 4ms/step - loss: 0.0125 - mse: 0.0023\n",
      "Epoch 35: val_loss improved from 0.00981 to 0.00916, saving model to best_autoencoder_model.keras\n",
      "\u001b[1m222/222\u001b[0m \u001b[32m━━━━━━━━━━━━━━━━━━━━\u001b[0m\u001b[37m\u001b[0m \u001b[1m1s\u001b[0m 5ms/step - loss: 0.0125 - mse: 0.0023 - val_loss: 0.0092 - val_mse: 0.0019 - learning_rate: 1.2500e-04\n",
      "Epoch 36/50\n",
      "\u001b[1m209/222\u001b[0m \u001b[32m━━━━━━━━━━━━━━━━━━\u001b[0m\u001b[37m━━\u001b[0m \u001b[1m0s\u001b[0m 4ms/step - loss: 0.0120 - mse: 0.0022\n",
      "Epoch 36: val_loss improved from 0.00916 to 0.00897, saving model to best_autoencoder_model.keras\n",
      "\u001b[1m222/222\u001b[0m \u001b[32m━━━━━━━━━━━━━━━━━━━━\u001b[0m\u001b[37m\u001b[0m \u001b[1m1s\u001b[0m 5ms/step - loss: 0.0120 - mse: 0.0022 - val_loss: 0.0090 - val_mse: 0.0018 - learning_rate: 1.2500e-04\n",
      "Epoch 37/50\n",
      "\u001b[1m210/222\u001b[0m \u001b[32m━━━━━━━━━━━━━━━━━━\u001b[0m\u001b[37m━━\u001b[0m \u001b[1m0s\u001b[0m 4ms/step - loss: 0.0119 - mse: 0.0022\n",
      "Epoch 37: val_loss improved from 0.00897 to 0.00894, saving model to best_autoencoder_model.keras\n",
      "\u001b[1m222/222\u001b[0m \u001b[32m━━━━━━━━━━━━━━━━━━━━\u001b[0m\u001b[37m\u001b[0m \u001b[1m1s\u001b[0m 5ms/step - loss: 0.0119 - mse: 0.0022 - val_loss: 0.0089 - val_mse: 0.0018 - learning_rate: 1.2500e-04\n",
      "Epoch 38/50\n",
      "\u001b[1m222/222\u001b[0m \u001b[32m━━━━━━━━━━━━━━━━━━━━\u001b[0m\u001b[37m\u001b[0m \u001b[1m0s\u001b[0m 4ms/step - loss: 0.0116 - mse: 0.0022\n",
      "Epoch 38: val_loss improved from 0.00894 to 0.00890, saving model to best_autoencoder_model.keras\n",
      "\u001b[1m222/222\u001b[0m \u001b[32m━━━━━━━━━━━━━━━━━━━━\u001b[0m\u001b[37m\u001b[0m \u001b[1m1s\u001b[0m 5ms/step - loss: 0.0116 - mse: 0.0022 - val_loss: 0.0089 - val_mse: 0.0019 - learning_rate: 1.2500e-04\n",
      "Epoch 39/50\n",
      "\u001b[1m217/222\u001b[0m \u001b[32m━━━━━━━━━━━━━━━━━━━\u001b[0m\u001b[37m━\u001b[0m \u001b[1m0s\u001b[0m 4ms/step - loss: 0.0105 - mse: 0.0020\n",
      "Epoch 39: val_loss improved from 0.00890 to 0.00827, saving model to best_autoencoder_model.keras\n",
      "\u001b[1m222/222\u001b[0m \u001b[32m━━━━━━━━━━━━━━━━━━━━\u001b[0m\u001b[37m\u001b[0m \u001b[1m1s\u001b[0m 5ms/step - loss: 0.0105 - mse: 0.0020 - val_loss: 0.0083 - val_mse: 0.0018 - learning_rate: 1.2500e-04\n",
      "Epoch 40/50\n",
      "\u001b[1m211/222\u001b[0m \u001b[32m━━━━━━━━━━━━━━━━━━━\u001b[0m\u001b[37m━\u001b[0m \u001b[1m0s\u001b[0m 4ms/step - loss: 0.0102 - mse: 0.0020\n",
      "Epoch 40: val_loss improved from 0.00827 to 0.00826, saving model to best_autoencoder_model.keras\n",
      "\u001b[1m222/222\u001b[0m \u001b[32m━━━━━━━━━━━━━━━━━━━━\u001b[0m\u001b[37m\u001b[0m \u001b[1m1s\u001b[0m 5ms/step - loss: 0.0102 - mse: 0.0020 - val_loss: 0.0083 - val_mse: 0.0018 - learning_rate: 1.2500e-04\n",
      "Epoch 41/50\n",
      "\u001b[1m211/222\u001b[0m \u001b[32m━━━━━━━━━━━━━━━━━━━\u001b[0m\u001b[37m━\u001b[0m \u001b[1m0s\u001b[0m 4ms/step - loss: 0.0101 - mse: 0.0020\n",
      "Epoch 41: val_loss improved from 0.00826 to 0.00818, saving model to best_autoencoder_model.keras\n",
      "\u001b[1m222/222\u001b[0m \u001b[32m━━━━━━━━━━━━━━━━━━━━\u001b[0m\u001b[37m\u001b[0m \u001b[1m1s\u001b[0m 5ms/step - loss: 0.0101 - mse: 0.0020 - val_loss: 0.0082 - val_mse: 0.0018 - learning_rate: 1.2500e-04\n",
      "Epoch 42/50\n",
      "\u001b[1m209/222\u001b[0m \u001b[32m━━━━━━━━━━━━━━━━━━\u001b[0m\u001b[37m━━\u001b[0m \u001b[1m0s\u001b[0m 4ms/step - loss: 0.0100 - mse: 0.0020\n",
      "Epoch 42: val_loss improved from 0.00818 to 0.00777, saving model to best_autoencoder_model.keras\n",
      "\u001b[1m222/222\u001b[0m \u001b[32m━━━━━━━━━━━━━━━━━━━━\u001b[0m\u001b[37m\u001b[0m \u001b[1m1s\u001b[0m 5ms/step - loss: 0.0100 - mse: 0.0020 - val_loss: 0.0078 - val_mse: 0.0018 - learning_rate: 1.2500e-04\n",
      "Epoch 43/50\n",
      "\u001b[1m214/222\u001b[0m \u001b[32m━━━━━━━━━━━━━━━━━━━\u001b[0m\u001b[37m━\u001b[0m \u001b[1m0s\u001b[0m 4ms/step - loss: 0.0098 - mse: 0.0020\n",
      "Epoch 43: val_loss improved from 0.00777 to 0.00766, saving model to best_autoencoder_model.keras\n",
      "\u001b[1m222/222\u001b[0m \u001b[32m━━━━━━━━━━━━━━━━━━━━\u001b[0m\u001b[37m\u001b[0m \u001b[1m1s\u001b[0m 5ms/step - loss: 0.0098 - mse: 0.0020 - val_loss: 0.0077 - val_mse: 0.0018 - learning_rate: 1.2500e-04\n",
      "Epoch 44/50\n",
      "\u001b[1m212/222\u001b[0m \u001b[32m━━━━━━━━━━━━━━━━━━━\u001b[0m\u001b[37m━\u001b[0m \u001b[1m0s\u001b[0m 4ms/step - loss: 0.0097 - mse: 0.0019\n",
      "Epoch 44: val_loss did not improve from 0.00766\n",
      "\u001b[1m222/222\u001b[0m \u001b[32m━━━━━━━━━━━━━━━━━━━━\u001b[0m\u001b[37m\u001b[0m \u001b[1m1s\u001b[0m 4ms/step - loss: 0.0097 - mse: 0.0019 - val_loss: 0.0079 - val_mse: 0.0018 - learning_rate: 1.2500e-04\n",
      "Epoch 45/50\n",
      "\u001b[1m215/222\u001b[0m \u001b[32m━━━━━━━━━━━━━━━━━━━\u001b[0m\u001b[37m━\u001b[0m \u001b[1m0s\u001b[0m 4ms/step - loss: 0.0096 - mse: 0.0019\n",
      "Epoch 45: val_loss did not improve from 0.00766\n",
      "\u001b[1m222/222\u001b[0m \u001b[32m━━━━━━━━━━━━━━━━━━━━\u001b[0m\u001b[37m\u001b[0m \u001b[1m1s\u001b[0m 4ms/step - loss: 0.0096 - mse: 0.0019 - val_loss: 0.0077 - val_mse: 0.0018 - learning_rate: 1.2500e-04\n",
      "Epoch 46/50\n",
      "\u001b[1m211/222\u001b[0m \u001b[32m━━━━━━━━━━━━━━━━━━━\u001b[0m\u001b[37m━\u001b[0m \u001b[1m0s\u001b[0m 4ms/step - loss: 0.0095 - mse: 0.0019\n",
      "Epoch 46: val_loss improved from 0.00766 to 0.00762, saving model to best_autoencoder_model.keras\n",
      "\n",
      "Epoch 46: ReduceLROnPlateau reducing learning rate to 6.25000029685907e-05.\n",
      "\u001b[1m222/222\u001b[0m \u001b[32m━━━━━━━━━━━━━━━━━━━━\u001b[0m\u001b[37m\u001b[0m \u001b[1m1s\u001b[0m 5ms/step - loss: 0.0095 - mse: 0.0019 - val_loss: 0.0076 - val_mse: 0.0018 - learning_rate: 1.2500e-04\n",
      "Epoch 47/50\n",
      "\u001b[1m222/222\u001b[0m \u001b[32m━━━━━━━━━━━━━━━━━━━━\u001b[0m\u001b[37m\u001b[0m \u001b[1m0s\u001b[0m 4ms/step - loss: 0.0093 - mse: 0.0019\n",
      "Epoch 47: val_loss improved from 0.00762 to 0.00703, saving model to best_autoencoder_model.keras\n",
      "\u001b[1m222/222\u001b[0m \u001b[32m━━━━━━━━━━━━━━━━━━━━\u001b[0m\u001b[37m\u001b[0m \u001b[1m1s\u001b[0m 5ms/step - loss: 0.0093 - mse: 0.0019 - val_loss: 0.0070 - val_mse: 0.0017 - learning_rate: 6.2500e-05\n",
      "Epoch 48/50\n",
      "\u001b[1m210/222\u001b[0m \u001b[32m━━━━━━━━━━━━━━━━━━\u001b[0m\u001b[37m━━\u001b[0m \u001b[1m0s\u001b[0m 4ms/step - loss: 0.0092 - mse: 0.0019\n",
      "Epoch 48: val_loss did not improve from 0.00703\n",
      "\u001b[1m222/222\u001b[0m \u001b[32m━━━━━━━━━━━━━━━━━━━━\u001b[0m\u001b[37m\u001b[0m \u001b[1m1s\u001b[0m 5ms/step - loss: 0.0092 - mse: 0.0019 - val_loss: 0.0071 - val_mse: 0.0018 - learning_rate: 6.2500e-05\n",
      "Epoch 49/50\n",
      "\u001b[1m211/222\u001b[0m \u001b[32m━━━━━━━━━━━━━━━━━━━\u001b[0m\u001b[37m━\u001b[0m \u001b[1m0s\u001b[0m 4ms/step - loss: 0.0092 - mse: 0.0019\n",
      "Epoch 49: val_loss improved from 0.00703 to 0.00699, saving model to best_autoencoder_model.keras\n",
      "\u001b[1m222/222\u001b[0m \u001b[32m━━━━━━━━━━━━━━━━━━━━\u001b[0m\u001b[37m\u001b[0m \u001b[1m1s\u001b[0m 5ms/step - loss: 0.0092 - mse: 0.0019 - val_loss: 0.0070 - val_mse: 0.0018 - learning_rate: 6.2500e-05\n",
      "Epoch 50/50\n",
      "\u001b[1m211/222\u001b[0m \u001b[32m━━━━━━━━━━━━━━━━━━━\u001b[0m\u001b[37m━\u001b[0m \u001b[1m0s\u001b[0m 4ms/step - loss: 0.0092 - mse: 0.0019\n",
      "Epoch 50: val_loss improved from 0.00699 to 0.00695, saving model to best_autoencoder_model.keras\n",
      "\n",
      "Epoch 50: ReduceLROnPlateau reducing learning rate to 3.125000148429535e-05.\n",
      "\u001b[1m222/222\u001b[0m \u001b[32m━━━━━━━━━━━━━━━━━━━━\u001b[0m\u001b[37m\u001b[0m \u001b[1m1s\u001b[0m 5ms/step - loss: 0.0092 - mse: 0.0019 - val_loss: 0.0070 - val_mse: 0.0017 - learning_rate: 6.2500e-05\n",
      "Restoring model weights from the end of the best epoch: 50.\n"
     ]
    }
   ],
   "source": [
    "print(f\"Training autoencoder on {X_train_benign_reshaped.shape[0]} benign samples...\")\n",
    "history_autoencoder = autoencoder.fit(\n",
    "    X_train_benign_reshaped, X_train_benign_reshaped, \n",
    "    epochs=50,\n",
    "    batch_size=256,\n",
    "    validation_split=0.2,\n",
    "    callbacks=callbacks,\n",
    "    verbose=1\n",
    ")"
   ]
  },
  {
   "cell_type": "code",
   "execution_count": 39,
   "metadata": {
    "execution": {
     "iopub.execute_input": "2025-05-18T16:47:00.030084Z",
     "iopub.status.busy": "2025-05-18T16:47:00.029820Z",
     "iopub.status.idle": "2025-05-18T16:47:00.638197Z",
     "shell.execute_reply": "2025-05-18T16:47:00.637455Z",
     "shell.execute_reply.started": "2025-05-18T16:47:00.030065Z"
    },
    "trusted": true
   },
   "outputs": [
    {
     "data": {
      "image/png": "[encoded data removed]",
      "text/plain": [
       "<Figure size 1200x400 with 2 Axes>"
      ]
     },
     "metadata": {},
     "output_type": "display_data"
    }
   ],
   "source": [
    "# Visualize training results\n",
    "plt.figure(figsize=(12, 4))\n",
    "plt.subplot(1, 2, 1)\n",
    "plt.plot(history_autoencoder.history['loss'], label='Training Loss')\n",
    "plt.plot(history_autoencoder.history['val_loss'], label='Validation Loss')\n",
    "plt.title('Autoencoder Loss')\n",
    "plt.xlabel('Epoch')\n",
    "plt.ylabel('Loss')\n",
    "plt.legend()\n",
    "plt.subplot(1, 2, 2)\n",
    "plt.plot(history_autoencoder.history['mse'], label='Training MSE')\n",
    "plt.plot(history_autoencoder.history['val_mse'], label='Validation MSE')\n",
    "plt.title('Mean Squared Error')\n",
    "plt.xlabel('Epoch')\n",
    "plt.ylabel('MSE')\n",
    "plt.legend()\n",
    "\n",
    "plt.tight_layout()\n",
    "plt.savefig('autoencoder_training_history.png')\n",
    "plt.show()\n"
   ]
  },
  {
   "cell_type": "code",
   "execution_count": 40,
   "metadata": {
    "execution": {
     "iopub.execute_input": "2025-05-18T16:47:00.639424Z",
     "iopub.status.busy": "2025-05-18T16:47:00.639126Z",
     "iopub.status.idle": "2025-05-18T16:47:00.643957Z",
     "shell.execute_reply": "2025-05-18T16:47:00.643362Z",
     "shell.execute_reply.started": "2025-05-18T16:47:00.639397Z"
    },
    "trusted": true
   },
   "outputs": [
    {
     "name": "stdout",
     "output_type": "stream",
     "text": [
      "Calculating reconstruction errors...\n"
     ]
    }
   ],
   "source": [
    "# Calculate reconstruction errors\n",
    "print(\"Calculating reconstruction errors...\")\n",
    "start_time = time.time()"
   ]
  },
  {
   "cell_type": "code",
   "execution_count": 41,
   "metadata": {
    "execution": {
     "iopub.execute_input": "2025-05-18T16:47:00.644880Z",
     "iopub.status.busy": "2025-05-18T16:47:00.644624Z",
     "iopub.status.idle": "2025-05-18T16:47:32.875088Z",
     "shell.execute_reply": "2025-05-18T16:47:32.874285Z",
     "shell.execute_reply.started": "2025-05-18T16:47:00.644862Z"
    },
    "trusted": true
   },
   "outputs": [
    {
     "name": "stdout",
     "output_type": "stream",
     "text": [
      "\u001b[1m9910/9910\u001b[0m \u001b[32m━━━━━━━━━━━━━━━━━━━━\u001b[0m\u001b[37m\u001b[0m \u001b[1m18s\u001b[0m 2ms/step\n",
      "\u001b[1m3304/3304\u001b[0m \u001b[32m━━━━━━━━━━━━━━━━━━━━\u001b[0m\u001b[37m\u001b[0m \u001b[1m6s\u001b[0m 2ms/step\n"
     ]
    }
   ],
   "source": [
    "# Get reconstruction errors for all data\n",
    "X_train_pred = autoencoder.predict(X_train_reshaped)\n",
    "X_test_pred = autoencoder.predict(X_test_reshaped)"
   ]
  },
  {
   "cell_type": "code",
   "execution_count": 42,
   "metadata": {
    "execution": {
     "iopub.execute_input": "2025-05-18T16:47:32.876857Z",
     "iopub.status.busy": "2025-05-18T16:47:32.876320Z",
     "iopub.status.idle": "2025-05-18T16:47:33.057875Z",
     "shell.execute_reply": "2025-05-18T16:47:33.056913Z",
     "shell.execute_reply.started": "2025-05-18T16:47:32.876831Z"
    },
    "trusted": true
   },
   "outputs": [],
   "source": [
    "# Calculate reconstruction error (mean absolute error)\n",
    "train_reconstruction_errors = np.mean(np.abs(X_train_reshaped - X_train_pred), axis=(1, 2))\n",
    "test_reconstruction_errors = np.mean(np.abs(X_test_reshaped - X_test_pred), axis=(1, 2))\n",
    "end_time = time.time()"
   ]
  },
  {
   "cell_type": "code",
   "execution_count": 43,
   "metadata": {
    "execution": {
     "iopub.execute_input": "2025-05-18T16:47:33.059214Z",
     "iopub.status.busy": "2025-05-18T16:47:33.058865Z",
     "iopub.status.idle": "2025-05-18T16:47:33.064380Z",
     "shell.execute_reply": "2025-05-18T16:47:33.063749Z",
     "shell.execute_reply.started": "2025-05-18T16:47:33.059191Z"
    },
    "trusted": true
   },
   "outputs": [
    {
     "name": "stdout",
     "output_type": "stream",
     "text": [
      "Inference time: 32.42 seconds for 105701 samples\n",
      "Average inference time per sample: 0.31 ms\n"
     ]
    }
   ],
   "source": [
    "inference_time = end_time - start_time\n",
    "print(f\"Inference time: {inference_time:.2f} seconds for {X_test.shape[0]} samples\")\n",
    "print(f\"Average inference time per sample: {(inference_time/X_test.shape[0])*1000:.2f} ms\")"
   ]
  },
  {
   "cell_type": "code",
   "execution_count": 44,
   "metadata": {
    "execution": {
     "iopub.execute_input": "2025-05-18T16:47:33.065390Z",
     "iopub.status.busy": "2025-05-18T16:47:33.065146Z",
     "iopub.status.idle": "2025-05-18T16:47:33.084843Z",
     "shell.execute_reply": "2025-05-18T16:47:33.084245Z",
     "shell.execute_reply.started": "2025-05-18T16:47:33.065374Z"
    },
    "trusted": true
   },
   "outputs": [
    {
     "name": "stdout",
     "output_type": "stream",
     "text": [
      "Setting anomaly threshold using benign data...\n",
      "Anomaly threshold (based on benign traffic): 0.023520\n"
     ]
    }
   ],
   "source": [
    "# Calculate threshold based on benign traffic only\n",
    "print(\"Setting anomaly threshold using benign data...\")\n",
    "benign_idx_test = np.where(y_test_binary == 0)[0]\n",
    "benign_reconstruction_errors = test_reconstruction_errors[benign_idx_test]\n",
    "threshold = np.percentile(benign_reconstruction_errors, 95)  # 95th percentile of benign traffic\n",
    "print(f\"Anomaly threshold (based on benign traffic): {threshold:.6f}\")\n"
   ]
  },
  {
   "cell_type": "code",
   "execution_count": 45,
   "metadata": {
    "execution": {
     "iopub.execute_input": "2025-05-18T16:47:33.086162Z",
     "iopub.status.busy": "2025-05-18T16:47:33.085862Z",
     "iopub.status.idle": "2025-05-18T16:47:33.098151Z",
     "shell.execute_reply": "2025-05-18T16:47:33.097605Z",
     "shell.execute_reply.started": "2025-05-18T16:47:33.086125Z"
    },
    "trusted": true
   },
   "outputs": [],
   "source": [
    "threshold = 0.009999"
   ]
  },
  {
   "cell_type": "code",
   "execution_count": 46,
   "metadata": {
    "execution": {
     "iopub.execute_input": "2025-05-18T16:47:33.099099Z",
     "iopub.status.busy": "2025-05-18T16:47:33.098911Z",
     "iopub.status.idle": "2025-05-18T16:47:33.114468Z",
     "shell.execute_reply": "2025-05-18T16:47:33.113902Z",
     "shell.execute_reply.started": "2025-05-18T16:47:33.099086Z"
    },
    "trusted": true
   },
   "outputs": [],
   "source": [
    "# Flag anomalies based on reconstruction error\n",
    "is_anomaly_train = train_reconstruction_errors > threshold\n",
    "is_anomaly_test = test_reconstruction_errors > threshold"
   ]
  },
  {
   "cell_type": "code",
   "execution_count": 47,
   "metadata": {
    "execution": {
     "iopub.execute_input": "2025-05-18T16:47:33.115646Z",
     "iopub.status.busy": "2025-05-18T16:47:33.115162Z",
     "iopub.status.idle": "2025-05-18T16:47:33.189731Z",
     "shell.execute_reply": "2025-05-18T16:47:33.188955Z",
     "shell.execute_reply.started": "2025-05-18T16:47:33.115624Z"
    },
    "trusted": true
   },
   "outputs": [
    {
     "name": "stdout",
     "output_type": "stream",
     "text": [
      "\n",
      "Anomaly Detection Performance:\n",
      "------------------------------------------------------------\n",
      "Accuracy: 0.9072\n",
      "Precision: 0.9416\n",
      "Recall: 0.9386\n",
      "F1 Score: 0.9401\n",
      "------------------------------------------------------------\n"
     ]
    }
   ],
   "source": [
    "# Calculate anomaly detection metrics\n",
    "print(\"\\nAnomaly Detection Performance:\")\n",
    "print(\"-\" * 60)\n",
    "anomaly_accuracy = accuracy_score(y_test_binary, is_anomaly_test)\n",
    "anomaly_precision = precision_score(y_test_binary, is_anomaly_test)\n",
    "anomaly_recall = recall_score(y_test_binary, is_anomaly_test)\n",
    "anomaly_f1 = f1_score(y_test_binary, is_anomaly_test)\n",
    "print(f\"Accuracy: {anomaly_accuracy:.4f}\")\n",
    "print(f\"Precision: {anomaly_precision:.4f}\")\n",
    "print(f\"Recall: {anomaly_recall:.4f}\")\n",
    "print(f\"F1 Score: {anomaly_f1:.4f}\")\n",
    "print(\"-\" * 60)"
   ]
  },
  {
   "cell_type": "code",
   "execution_count": 48,
   "metadata": {
    "execution": {
     "iopub.execute_input": "2025-05-18T16:47:33.191071Z",
     "iopub.status.busy": "2025-05-18T16:47:33.190545Z",
     "iopub.status.idle": "2025-05-18T16:47:34.466276Z",
     "shell.execute_reply": "2025-05-18T16:47:34.465562Z",
     "shell.execute_reply.started": "2025-05-18T16:47:33.191047Z"
    },
    "trusted": true
   },
   "outputs": [
    {
     "name": "stderr",
     "output_type": "stream",
     "text": [
      "/usr/local/lib/python3.11/dist-packages/seaborn/_oldcore.py:1119: FutureWarning: use_inf_as_na option is deprecated and will be removed in a future version. Convert inf values to NaN before operating instead.\n",
      "  with pd.option_context('mode.use_inf_as_na', True):\n",
      "/usr/local/lib/python3.11/dist-packages/seaborn/_oldcore.py:1119: FutureWarning: use_inf_as_na option is deprecated and will be removed in a future version. Convert inf values to NaN before operating instead.\n",
      "  with pd.option_context('mode.use_inf_as_na', True):\n"
     ]
    },
    {
     "data": {
      "image/png": "[encoded data removed]",
      "text/plain": [
       "<Figure size 1200x800 with 2 Axes>"
      ]
     },
     "metadata": {},
     "output_type": "display_data"
    }
   ],
   "source": [
    "# Visualize reconstruction error distribution\n",
    "plt.figure(figsize=(12, 8))\n",
    "\n",
    "plt.subplot(2, 1, 1)\n",
    "sns.histplot(test_reconstruction_errors[benign_idx_test], bins=50, color='green', alpha=0.5, label='Benign Traffic')\n",
    "sns.histplot(test_reconstruction_errors[y_test_binary == 1], bins=50, color='red', alpha=0.5, label='Attack Traffic')\n",
    "plt.axvline(threshold, color='blue', linestyle='--', label=f'Threshold: {threshold:.6f}')\n",
    "plt.title('Reconstruction Error Distribution by Traffic Type')\n",
    "plt.xlabel('Reconstruction Error')\n",
    "plt.ylabel('Count')\n",
    "plt.legend()\n",
    "\n",
    "plt.subplot(2, 1, 2)\n",
    "fpr, tpr, _ = roc_curve(y_test_binary, test_reconstruction_errors)\n",
    "roc_auc = auc(fpr, tpr)\n",
    "plt.plot(fpr, tpr, color='darkorange', lw=2, label=f'ROC curve (area = {roc_auc:.2f})')\n",
    "plt.plot([0, 1], [0, 1], color='navy', lw=2, linestyle='--')\n",
    "plt.xlim([0.0, 1.0])\n",
    "plt.ylim([0.0, 1.05])\n",
    "plt.xlabel('False Positive Rate')\n",
    "plt.ylabel('True Positive Rate')\n",
    "plt.title('Receiver Operating Characteristic for Anomaly Detection')\n",
    "plt.legend(loc=\"lower right\")\n",
    "\n",
    "plt.tight_layout()\n",
    "plt.savefig('reconstruction_error_analysis.png')\n",
    "plt.show()"
   ]
  },
  {
   "cell_type": "code",
   "execution_count": 49,
   "metadata": {
    "execution": {
     "iopub.execute_input": "2025-05-18T16:47:34.467852Z",
     "iopub.status.busy": "2025-05-18T16:47:34.467173Z",
     "iopub.status.idle": "2025-05-18T16:47:34.551884Z",
     "shell.execute_reply": "2025-05-18T16:47:34.551220Z",
     "shell.execute_reply.started": "2025-05-18T16:47:34.467823Z"
    },
    "trusted": true
   },
   "outputs": [
    {
     "name": "stdout",
     "output_type": "stream",
     "text": [
      "Preparing data for attack type classification...\n",
      "Attack classification training data shape: (246074, 77)\n",
      "Attack classification test data shape: (82025, 77)\n"
     ]
    }
   ],
   "source": [
    "print(\"Preparing data for attack type classification...\")\n",
    "attack_idx_train = np.where(y_train_binary == 1)[0]\n",
    "attack_idx_test = np.where(y_test_binary == 1)[0]\n",
    "\n",
    "# Use original features for attack classification instead of encoded features\n",
    "X_train_attacks = X_train[attack_idx_train]\n",
    "y_train_attacks = y_train_multi[attack_idx_train]\n",
    "y_train_attacks_onehot = y_train_onehot[attack_idx_train]\n",
    "\n",
    "X_test_attacks = X_test[attack_idx_test]\n",
    "y_test_attacks = y_test_multi[attack_idx_test]\n",
    "y_test_attacks_onehot = y_test_onehot[attack_idx_test]\n",
    "\n",
    "print(f\"Attack classification training data shape: {X_train_attacks.shape}\")\n",
    "print(f\"Attack classification test data shape: {X_test_attacks.shape}\")\n"
   ]
  },
  {
   "cell_type": "code",
   "execution_count": 50,
   "metadata": {
    "execution": {
     "iopub.execute_input": "2025-05-18T16:47:34.552915Z",
     "iopub.status.busy": "2025-05-18T16:47:34.552664Z",
     "iopub.status.idle": "2025-05-18T16:47:34.668043Z",
     "shell.execute_reply": "2025-05-18T16:47:34.667344Z",
     "shell.execute_reply.started": "2025-05-18T16:47:34.552898Z"
    },
    "trusted": true
   },
   "outputs": [
    {
     "name": "stdout",
     "output_type": "stream",
     "text": [
      "Training deep neural network classifier on original features...\n"
     ]
    },
    {
     "name": "stderr",
     "output_type": "stream",
     "text": [
      "/usr/local/lib/python3.11/dist-packages/keras/src/layers/core/dense.py:87: UserWarning: Do not pass an `input_shape`/`input_dim` argument to a layer. When using Sequential models, prefer using an `Input(shape)` object as the first layer in the model instead.\n",
      "  super().__init__(activity_regularizer=activity_regularizer, **kwargs)\n"
     ]
    },
    {
     "data": {
      "text/html": [
       "<pre style=\"white-space:pre;overflow-x:auto;line-height:normal;font-family:Menlo,'DejaVu Sans Mono',consolas,'Courier New',monospace\"><span style=\"font-weight: bold\">Model: \"sequential\"</span>\n",
       "</pre>\n"
      ],
      "text/plain": [
       "\u001b[1mModel: \"sequential\"\u001b[0m\n"
      ]
     },
     "metadata": {},
     "output_type": "display_data"
    },
    {
     "data": {
      "text/html": [
       "<pre style=\"white-space:pre;overflow-x:auto;line-height:normal;font-family:Menlo,'DejaVu Sans Mono',consolas,'Courier New',monospace\">┏━━━━━━━━━━━━━━━━━━━━━━━━━━━━━━━━━━━━━━┳━━━━━━━━━━━━━━━━━━━━━━━━━━━━━┳━━━━━━━━━━━━━━━━━┓\n",
       "┃<span style=\"font-weight: bold\"> Layer (type)                         </span>┃<span style=\"font-weight: bold\"> Output Shape                </span>┃<span style=\"font-weight: bold\">         Param # </span>┃\n",
       "┡━━━━━━━━━━━━━━━━━━━━━━━━━━━━━━━━━━━━━━╇━━━━━━━━━━━━━━━━━━━━━━━━━━━━━╇━━━━━━━━━━━━━━━━━┩\n",
       "│ dense_1 (<span style=\"color: #0087ff; text-decoration-color: #0087ff\">Dense</span>)                      │ (<span style=\"color: #00d7ff; text-decoration-color: #00d7ff\">None</span>, <span style=\"color: #00af00; text-decoration-color: #00af00\">256</span>)                 │          <span style=\"color: #00af00; text-decoration-color: #00af00\">19,968</span> │\n",
       "├──────────────────────────────────────┼─────────────────────────────┼─────────────────┤\n",
       "│ batch_normalization_4                │ (<span style=\"color: #00d7ff; text-decoration-color: #00d7ff\">None</span>, <span style=\"color: #00af00; text-decoration-color: #00af00\">256</span>)                 │           <span style=\"color: #00af00; text-decoration-color: #00af00\">1,024</span> │\n",
       "│ (<span style=\"color: #0087ff; text-decoration-color: #0087ff\">BatchNormalization</span>)                 │                             │                 │\n",
       "├──────────────────────────────────────┼─────────────────────────────┼─────────────────┤\n",
       "│ dropout_2 (<span style=\"color: #0087ff; text-decoration-color: #0087ff\">Dropout</span>)                  │ (<span style=\"color: #00d7ff; text-decoration-color: #00d7ff\">None</span>, <span style=\"color: #00af00; text-decoration-color: #00af00\">256</span>)                 │               <span style=\"color: #00af00; text-decoration-color: #00af00\">0</span> │\n",
       "├──────────────────────────────────────┼─────────────────────────────┼─────────────────┤\n",
       "│ dense_2 (<span style=\"color: #0087ff; text-decoration-color: #0087ff\">Dense</span>)                      │ (<span style=\"color: #00d7ff; text-decoration-color: #00d7ff\">None</span>, <span style=\"color: #00af00; text-decoration-color: #00af00\">128</span>)                 │          <span style=\"color: #00af00; text-decoration-color: #00af00\">32,896</span> │\n",
       "├──────────────────────────────────────┼─────────────────────────────┼─────────────────┤\n",
       "│ batch_normalization_5                │ (<span style=\"color: #00d7ff; text-decoration-color: #00d7ff\">None</span>, <span style=\"color: #00af00; text-decoration-color: #00af00\">128</span>)                 │             <span style=\"color: #00af00; text-decoration-color: #00af00\">512</span> │\n",
       "│ (<span style=\"color: #0087ff; text-decoration-color: #0087ff\">BatchNormalization</span>)                 │                             │                 │\n",
       "├──────────────────────────────────────┼─────────────────────────────┼─────────────────┤\n",
       "│ dropout_3 (<span style=\"color: #0087ff; text-decoration-color: #0087ff\">Dropout</span>)                  │ (<span style=\"color: #00d7ff; text-decoration-color: #00d7ff\">None</span>, <span style=\"color: #00af00; text-decoration-color: #00af00\">128</span>)                 │               <span style=\"color: #00af00; text-decoration-color: #00af00\">0</span> │\n",
       "├──────────────────────────────────────┼─────────────────────────────┼─────────────────┤\n",
       "│ dense_3 (<span style=\"color: #0087ff; text-decoration-color: #0087ff\">Dense</span>)                      │ (<span style=\"color: #00d7ff; text-decoration-color: #00d7ff\">None</span>, <span style=\"color: #00af00; text-decoration-color: #00af00\">64</span>)                  │           <span style=\"color: #00af00; text-decoration-color: #00af00\">8,256</span> │\n",
       "├──────────────────────────────────────┼─────────────────────────────┼─────────────────┤\n",
       "│ batch_normalization_6                │ (<span style=\"color: #00d7ff; text-decoration-color: #00d7ff\">None</span>, <span style=\"color: #00af00; text-decoration-color: #00af00\">64</span>)                  │             <span style=\"color: #00af00; text-decoration-color: #00af00\">256</span> │\n",
       "│ (<span style=\"color: #0087ff; text-decoration-color: #0087ff\">BatchNormalization</span>)                 │                             │                 │\n",
       "├──────────────────────────────────────┼─────────────────────────────┼─────────────────┤\n",
       "│ dropout_4 (<span style=\"color: #0087ff; text-decoration-color: #0087ff\">Dropout</span>)                  │ (<span style=\"color: #00d7ff; text-decoration-color: #00d7ff\">None</span>, <span style=\"color: #00af00; text-decoration-color: #00af00\">64</span>)                  │               <span style=\"color: #00af00; text-decoration-color: #00af00\">0</span> │\n",
       "├──────────────────────────────────────┼─────────────────────────────┼─────────────────┤\n",
       "│ dense_4 (<span style=\"color: #0087ff; text-decoration-color: #0087ff\">Dense</span>)                      │ (<span style=\"color: #00d7ff; text-decoration-color: #00d7ff\">None</span>, <span style=\"color: #00af00; text-decoration-color: #00af00\">14</span>)                  │             <span style=\"color: #00af00; text-decoration-color: #00af00\">910</span> │\n",
       "└──────────────────────────────────────┴─────────────────────────────┴─────────────────┘\n",
       "</pre>\n"
      ],
      "text/plain": [
       "┏━━━━━━━━━━━━━━━━━━━━━━━━━━━━━━━━━━━━━━┳━━━━━━━━━━━━━━━━━━━━━━━━━━━━━┳━━━━━━━━━━━━━━━━━┓\n",
       "┃\u001b[1m \u001b[0m\u001b[1mLayer (type)                        \u001b[0m\u001b[1m \u001b[0m┃\u001b[1m \u001b[0m\u001b[1mOutput Shape               \u001b[0m\u001b[1m \u001b[0m┃\u001b[1m \u001b[0m\u001b[1m        Param #\u001b[0m\u001b[1m \u001b[0m┃\n",
       "┡━━━━━━━━━━━━━━━━━━━━━━━━━━━━━━━━━━━━━━╇━━━━━━━━━━━━━━━━━━━━━━━━━━━━━╇━━━━━━━━━━━━━━━━━┩\n",
       "│ dense_1 (\u001b[38;5;33mDense\u001b[0m)                      │ (\u001b[38;5;45mNone\u001b[0m, \u001b[38;5;34m256\u001b[0m)                 │          \u001b[38;5;34m19,968\u001b[0m │\n",
       "├──────────────────────────────────────┼─────────────────────────────┼─────────────────┤\n",
       "│ batch_normalization_4                │ (\u001b[38;5;45mNone\u001b[0m, \u001b[38;5;34m256\u001b[0m)                 │           \u001b[38;5;34m1,024\u001b[0m │\n",
       "│ (\u001b[38;5;33mBatchNormalization\u001b[0m)                 │                             │                 │\n",
       "├──────────────────────────────────────┼─────────────────────────────┼─────────────────┤\n",
       "│ dropout_2 (\u001b[38;5;33mDropout\u001b[0m)                  │ (\u001b[38;5;45mNone\u001b[0m, \u001b[38;5;34m256\u001b[0m)                 │               \u001b[38;5;34m0\u001b[0m │\n",
       "├──────────────────────────────────────┼─────────────────────────────┼─────────────────┤\n",
       "│ dense_2 (\u001b[38;5;33mDense\u001b[0m)                      │ (\u001b[38;5;45mNone\u001b[0m, \u001b[38;5;34m128\u001b[0m)                 │          \u001b[38;5;34m32,896\u001b[0m │\n",
       "├──────────────────────────────────────┼─────────────────────────────┼─────────────────┤\n",
       "│ batch_normalization_5                │ (\u001b[38;5;45mNone\u001b[0m, \u001b[38;5;34m128\u001b[0m)                 │             \u001b[38;5;34m512\u001b[0m │\n",
       "│ (\u001b[38;5;33mBatchNormalization\u001b[0m)                 │                             │                 │\n",
       "├──────────────────────────────────────┼─────────────────────────────┼─────────────────┤\n",
       "│ dropout_3 (\u001b[38;5;33mDropout\u001b[0m)                  │ (\u001b[38;5;45mNone\u001b[0m, \u001b[38;5;34m128\u001b[0m)                 │               \u001b[38;5;34m0\u001b[0m │\n",
       "├──────────────────────────────────────┼─────────────────────────────┼─────────────────┤\n",
       "│ dense_3 (\u001b[38;5;33mDense\u001b[0m)                      │ (\u001b[38;5;45mNone\u001b[0m, \u001b[38;5;34m64\u001b[0m)                  │           \u001b[38;5;34m8,256\u001b[0m │\n",
       "├──────────────────────────────────────┼─────────────────────────────┼─────────────────┤\n",
       "│ batch_normalization_6                │ (\u001b[38;5;45mNone\u001b[0m, \u001b[38;5;34m64\u001b[0m)                  │             \u001b[38;5;34m256\u001b[0m │\n",
       "│ (\u001b[38;5;33mBatchNormalization\u001b[0m)                 │                             │                 │\n",
       "├──────────────────────────────────────┼─────────────────────────────┼─────────────────┤\n",
       "│ dropout_4 (\u001b[38;5;33mDropout\u001b[0m)                  │ (\u001b[38;5;45mNone\u001b[0m, \u001b[38;5;34m64\u001b[0m)                  │               \u001b[38;5;34m0\u001b[0m │\n",
       "├──────────────────────────────────────┼─────────────────────────────┼─────────────────┤\n",
       "│ dense_4 (\u001b[38;5;33mDense\u001b[0m)                      │ (\u001b[38;5;45mNone\u001b[0m, \u001b[38;5;34m14\u001b[0m)                  │             \u001b[38;5;34m910\u001b[0m │\n",
       "└──────────────────────────────────────┴─────────────────────────────┴─────────────────┘\n"
      ]
     },
     "metadata": {},
     "output_type": "display_data"
    },
    {
     "data": {
      "text/html": [
       "<pre style=\"white-space:pre;overflow-x:auto;line-height:normal;font-family:Menlo,'DejaVu Sans Mono',consolas,'Courier New',monospace\"><span style=\"font-weight: bold\"> Total params: </span><span style=\"color: #00af00; text-decoration-color: #00af00\">63,822</span> (249.30 KB)\n",
       "</pre>\n"
      ],
      "text/plain": [
       "\u001b[1m Total params: \u001b[0m\u001b[38;5;34m63,822\u001b[0m (249.30 KB)\n"
      ]
     },
     "metadata": {},
     "output_type": "display_data"
    },
    {
     "data": {
      "text/html": [
       "<pre style=\"white-space:pre;overflow-x:auto;line-height:normal;font-family:Menlo,'DejaVu Sans Mono',consolas,'Courier New',monospace\"><span style=\"font-weight: bold\"> Trainable params: </span><span style=\"color: #00af00; text-decoration-color: #00af00\">62,926</span> (245.80 KB)\n",
       "</pre>\n"
      ],
      "text/plain": [
       "\u001b[1m Trainable params: \u001b[0m\u001b[38;5;34m62,926\u001b[0m (245.80 KB)\n"
      ]
     },
     "metadata": {},
     "output_type": "display_data"
    },
    {
     "data": {
      "text/html": [
       "<pre style=\"white-space:pre;overflow-x:auto;line-height:normal;font-family:Menlo,'DejaVu Sans Mono',consolas,'Courier New',monospace\"><span style=\"font-weight: bold\"> Non-trainable params: </span><span style=\"color: #00af00; text-decoration-color: #00af00\">896</span> (3.50 KB)\n",
       "</pre>\n"
      ],
      "text/plain": [
       "\u001b[1m Non-trainable params: \u001b[0m\u001b[38;5;34m896\u001b[0m (3.50 KB)\n"
      ]
     },
     "metadata": {},
     "output_type": "display_data"
    }
   ],
   "source": [
    "# Cell: Train deep neural network classifier on attack data\n",
    "print(\"Training deep neural network classifier on original features...\")\n",
    "classifier = create_classifier(\n",
    "    input_dim=X_train_attacks.shape[1],\n",
    "    num_classes=n_classes,\n",
    "    hidden_layers=[256, 128, 64],\n",
    "    dropout_rate=0.3\n",
    ")\n",
    "\n",
    "classifier.compile(\n",
    "    optimizer=tf.keras.optimizers.Adam(learning_rate=0.001),\n",
    "    loss='categorical_crossentropy',\n",
    "    metrics=['accuracy']\n",
    ")\n",
    "\n",
    "classifier.summary()\n",
    "classifier_callbacks = [\n",
    "    EarlyStopping(\n",
    "        monitor='val_accuracy',\n",
    "        patience=5,\n",
    "        restore_best_weights=True,\n",
    "        verbose=1\n",
    "    ),\n",
    "    ModelCheckpoint(\n",
    "        'best_classifier_model.keras',\n",
    "        monitor='val_accuracy',\n",
    "        save_best_only=True,\n",
    "        verbose=1\n",
    "    ),\n",
    "    ReduceLROnPlateau(\n",
    "        monitor='val_loss',\n",
    "        factor=0.5,\n",
    "        patience=3,\n",
    "        min_lr=0.00001,\n",
    "        verbose=1\n",
    "    )\n",
    "]\n"
   ]
  },
  {
   "cell_type": "code",
   "execution_count": 51,
   "metadata": {
    "execution": {
     "iopub.execute_input": "2025-05-18T16:47:34.669337Z",
     "iopub.status.busy": "2025-05-18T16:47:34.668850Z",
     "iopub.status.idle": "2025-05-18T16:49:07.840753Z",
     "shell.execute_reply": "2025-05-18T16:49:07.840161Z",
     "shell.execute_reply.started": "2025-05-18T16:47:34.669312Z"
    },
    "trusted": true
   },
   "outputs": [
    {
     "name": "stdout",
     "output_type": "stream",
     "text": [
      "Epoch 1/50\n",
      "\u001b[1m769/769\u001b[0m \u001b[32m━━━━━━━━━━━━━━━━━━━━\u001b[0m\u001b[37m\u001b[0m \u001b[1m0s\u001b[0m 6ms/step - accuracy: 0.8148 - loss: 0.6637\n",
      "Epoch 1: val_accuracy improved from -inf to 0.89771, saving model to best_classifier_model.keras\n",
      "\u001b[1m769/769\u001b[0m \u001b[32m━━━━━━━━━━━━━━━━━━━━\u001b[0m\u001b[37m\u001b[0m \u001b[1m13s\u001b[0m 8ms/step - accuracy: 0.8149 - loss: 0.6633 - val_accuracy: 0.8977 - val_loss: 0.2822 - learning_rate: 0.0010\n",
      "Epoch 2/50\n",
      "\u001b[1m757/769\u001b[0m \u001b[32m━━━━━━━━━━━━━━━━━━━\u001b[0m\u001b[37m━\u001b[0m \u001b[1m0s\u001b[0m 2ms/step - accuracy: 0.9034 - loss: 0.2598\n",
      "Epoch 2: val_accuracy did not improve from 0.89771\n",
      "\u001b[1m769/769\u001b[0m \u001b[32m━━━━━━━━━━━━━━━━━━━━\u001b[0m\u001b[37m\u001b[0m \u001b[1m2s\u001b[0m 3ms/step - accuracy: 0.9034 - loss: 0.2597 - val_accuracy: 0.8344 - val_loss: 0.4226 - learning_rate: 0.0010\n",
      "Epoch 3/50\n",
      "\u001b[1m763/769\u001b[0m \u001b[32m━━━━━━━━━━━━━━━━━━━\u001b[0m\u001b[37m━\u001b[0m \u001b[1m0s\u001b[0m 2ms/step - accuracy: 0.9092 - loss: 0.2369\n",
      "Epoch 3: val_accuracy did not improve from 0.89771\n",
      "\u001b[1m769/769\u001b[0m \u001b[32m━━━━━━━━━━━━━━━━━━━━\u001b[0m\u001b[37m\u001b[0m \u001b[1m2s\u001b[0m 3ms/step - accuracy: 0.9092 - loss: 0.2369 - val_accuracy: 0.6331 - val_loss: 2.3357 - learning_rate: 0.0010\n",
      "Epoch 4/50\n",
      "\u001b[1m767/769\u001b[0m \u001b[32m━━━━━━━━━━━━━━━━━━━\u001b[0m\u001b[37m━\u001b[0m \u001b[1m0s\u001b[0m 2ms/step - accuracy: 0.9230 - loss: 0.2043\n",
      "Epoch 4: val_accuracy did not improve from 0.89771\n",
      "\n",
      "Epoch 4: ReduceLROnPlateau reducing learning rate to 0.0005000000237487257.\n",
      "\u001b[1m769/769\u001b[0m \u001b[32m━━━━━━━━━━━━━━━━━━━━\u001b[0m\u001b[37m\u001b[0m \u001b[1m2s\u001b[0m 3ms/step - accuracy: 0.9230 - loss: 0.2043 - val_accuracy: 0.7081 - val_loss: 0.4756 - learning_rate: 0.0010\n",
      "Epoch 5/50\n",
      "\u001b[1m768/769\u001b[0m \u001b[32m━━━━━━━━━━━━━━━━━━━\u001b[0m\u001b[37m━\u001b[0m \u001b[1m0s\u001b[0m 3ms/step - accuracy: 0.9274 - loss: 0.1900\n",
      "Epoch 5: val_accuracy improved from 0.89771 to 0.93244, saving model to best_classifier_model.keras\n",
      "\u001b[1m769/769\u001b[0m \u001b[32m━━━━━━━━━━━━━━━━━━━━\u001b[0m\u001b[37m\u001b[0m \u001b[1m2s\u001b[0m 3ms/step - accuracy: 0.9274 - loss: 0.1899 - val_accuracy: 0.9324 - val_loss: 0.1783 - learning_rate: 5.0000e-04\n",
      "Epoch 6/50\n",
      "\u001b[1m766/769\u001b[0m \u001b[32m━━━━━━━━━━━━━━━━━━━\u001b[0m\u001b[37m━\u001b[0m \u001b[1m0s\u001b[0m 2ms/step - accuracy: 0.9287 - loss: 0.1849\n",
      "Epoch 6: val_accuracy improved from 0.93244 to 0.93463, saving model to best_classifier_model.keras\n",
      "\u001b[1m769/769\u001b[0m \u001b[32m━━━━━━━━━━━━━━━━━━━━\u001b[0m\u001b[37m\u001b[0m \u001b[1m2s\u001b[0m 3ms/step - accuracy: 0.9287 - loss: 0.1849 - val_accuracy: 0.9346 - val_loss: 0.1731 - learning_rate: 5.0000e-04\n",
      "Epoch 7/50\n",
      "\u001b[1m764/769\u001b[0m \u001b[32m━━━━━━━━━━━━━━━━━━━\u001b[0m\u001b[37m━\u001b[0m \u001b[1m0s\u001b[0m 2ms/step - accuracy: 0.9287 - loss: 0.1832\n",
      "Epoch 7: val_accuracy did not improve from 0.93463\n",
      "\u001b[1m769/769\u001b[0m \u001b[32m━━━━━━━━━━━━━━━━━━━━\u001b[0m\u001b[37m\u001b[0m \u001b[1m2s\u001b[0m 3ms/step - accuracy: 0.9287 - loss: 0.1832 - val_accuracy: 0.9321 - val_loss: 0.1858 - learning_rate: 5.0000e-04\n",
      "Epoch 8/50\n",
      "\u001b[1m765/769\u001b[0m \u001b[32m━━━━━━━━━━━━━━━━━━━\u001b[0m\u001b[37m━\u001b[0m \u001b[1m0s\u001b[0m 2ms/step - accuracy: 0.9292 - loss: 0.1812\n",
      "Epoch 8: val_accuracy improved from 0.93463 to 0.93494, saving model to best_classifier_model.keras\n",
      "\u001b[1m769/769\u001b[0m \u001b[32m━━━━━━━━━━━━━━━━━━━━\u001b[0m\u001b[37m\u001b[0m \u001b[1m2s\u001b[0m 3ms/step - accuracy: 0.9292 - loss: 0.1812 - val_accuracy: 0.9349 - val_loss: 0.1707 - learning_rate: 5.0000e-04\n",
      "Epoch 9/50\n",
      "\u001b[1m761/769\u001b[0m \u001b[32m━━━━━━━━━━━━━━━━━━━\u001b[0m\u001b[37m━\u001b[0m \u001b[1m0s\u001b[0m 2ms/step - accuracy: 0.9293 - loss: 0.1807\n",
      "Epoch 9: val_accuracy did not improve from 0.93494\n",
      "\u001b[1m769/769\u001b[0m \u001b[32m━━━━━━━━━━━━━━━━━━━━\u001b[0m\u001b[37m\u001b[0m \u001b[1m2s\u001b[0m 3ms/step - accuracy: 0.9293 - loss: 0.1807 - val_accuracy: 0.9341 - val_loss: 0.1683 - learning_rate: 5.0000e-04\n",
      "Epoch 10/50\n",
      "\u001b[1m755/769\u001b[0m \u001b[32m━━━━━━━━━━━━━━━━━━━\u001b[0m\u001b[37m━\u001b[0m \u001b[1m0s\u001b[0m 3ms/step - accuracy: 0.9294 - loss: 0.1784\n",
      "Epoch 10: val_accuracy did not improve from 0.93494\n",
      "\u001b[1m769/769\u001b[0m \u001b[32m━━━━━━━━━━━━━━━━━━━━\u001b[0m\u001b[37m\u001b[0m \u001b[1m3s\u001b[0m 3ms/step - accuracy: 0.9294 - loss: 0.1784 - val_accuracy: 0.9344 - val_loss: 0.1693 - learning_rate: 5.0000e-04\n",
      "Epoch 11/50\n",
      "\u001b[1m765/769\u001b[0m \u001b[32m━━━━━━━━━━━━━━━━━━━\u001b[0m\u001b[37m━\u001b[0m \u001b[1m0s\u001b[0m 2ms/step - accuracy: 0.9298 - loss: 0.1774\n",
      "Epoch 11: val_accuracy improved from 0.93494 to 0.93516, saving model to best_classifier_model.keras\n",
      "\u001b[1m769/769\u001b[0m \u001b[32m━━━━━━━━━━━━━━━━━━━━\u001b[0m\u001b[37m\u001b[0m \u001b[1m2s\u001b[0m 3ms/step - accuracy: 0.9298 - loss: 0.1774 - val_accuracy: 0.9352 - val_loss: 0.1713 - learning_rate: 5.0000e-04\n",
      "Epoch 12/50\n",
      "\u001b[1m762/769\u001b[0m \u001b[32m━━━━━━━━━━━━━━━━━━━\u001b[0m\u001b[37m━\u001b[0m \u001b[1m0s\u001b[0m 3ms/step - accuracy: 0.9298 - loss: 0.1763\n",
      "Epoch 12: val_accuracy improved from 0.93516 to 0.93559, saving model to best_classifier_model.keras\n",
      "\u001b[1m769/769\u001b[0m \u001b[32m━━━━━━━━━━━━━━━━━━━━\u001b[0m\u001b[37m\u001b[0m \u001b[1m2s\u001b[0m 3ms/step - accuracy: 0.9298 - loss: 0.1763 - val_accuracy: 0.9356 - val_loss: 0.1653 - learning_rate: 5.0000e-04\n",
      "Epoch 13/50\n",
      "\u001b[1m758/769\u001b[0m \u001b[32m━━━━━━━━━━━━━━━━━━━\u001b[0m\u001b[37m━\u001b[0m \u001b[1m0s\u001b[0m 3ms/step - accuracy: 0.9301 - loss: 0.1760\n",
      "Epoch 13: val_accuracy improved from 0.93559 to 0.93624, saving model to best_classifier_model.keras\n",
      "\u001b[1m769/769\u001b[0m \u001b[32m━━━━━━━━━━━━━━━━━━━━\u001b[0m\u001b[37m\u001b[0m \u001b[1m2s\u001b[0m 3ms/step - accuracy: 0.9301 - loss: 0.1760 - val_accuracy: 0.9362 - val_loss: 0.1604 - learning_rate: 5.0000e-04\n",
      "Epoch 14/50\n",
      "\u001b[1m761/769\u001b[0m \u001b[32m━━━━━━━━━━━━━━━━━━━\u001b[0m\u001b[37m━\u001b[0m \u001b[1m0s\u001b[0m 2ms/step - accuracy: 0.9307 - loss: 0.1751\n",
      "Epoch 14: val_accuracy did not improve from 0.93624\n",
      "\u001b[1m769/769\u001b[0m \u001b[32m━━━━━━━━━━━━━━━━━━━━\u001b[0m\u001b[37m\u001b[0m \u001b[1m2s\u001b[0m 3ms/step - accuracy: 0.9307 - loss: 0.1751 - val_accuracy: 0.9352 - val_loss: 0.1685 - learning_rate: 5.0000e-04\n",
      "Epoch 15/50\n",
      "\u001b[1m754/769\u001b[0m \u001b[32m━━━━━━━━━━━━━━━━━━━\u001b[0m\u001b[37m━\u001b[0m \u001b[1m0s\u001b[0m 3ms/step - accuracy: 0.9308 - loss: 0.1750\n",
      "Epoch 15: val_accuracy did not improve from 0.93624\n",
      "\u001b[1m769/769\u001b[0m \u001b[32m━━━━━━━━━━━━━━━━━━━━\u001b[0m\u001b[37m\u001b[0m \u001b[1m2s\u001b[0m 3ms/step - accuracy: 0.9308 - loss: 0.1750 - val_accuracy: 0.9359 - val_loss: 0.1632 - learning_rate: 5.0000e-04\n",
      "Epoch 16/50\n",
      "\u001b[1m758/769\u001b[0m \u001b[32m━━━━━━━━━━━━━━━━━━━\u001b[0m\u001b[37m━\u001b[0m \u001b[1m0s\u001b[0m 3ms/step - accuracy: 0.9302 - loss: 0.1740\n",
      "Epoch 16: val_accuracy did not improve from 0.93624\n",
      "\n",
      "Epoch 16: ReduceLROnPlateau reducing learning rate to 0.0002500000118743628.\n",
      "\u001b[1m769/769\u001b[0m \u001b[32m━━━━━━━━━━━━━━━━━━━━\u001b[0m\u001b[37m\u001b[0m \u001b[1m2s\u001b[0m 3ms/step - accuracy: 0.9302 - loss: 0.1740 - val_accuracy: 0.9362 - val_loss: 0.1657 - learning_rate: 5.0000e-04\n",
      "Epoch 17/50\n",
      "\u001b[1m751/769\u001b[0m \u001b[32m━━━━━━━━━━━━━━━━━━━\u001b[0m\u001b[37m━\u001b[0m \u001b[1m0s\u001b[0m 3ms/step - accuracy: 0.9309 - loss: 0.1729\n",
      "Epoch 17: val_accuracy improved from 0.93624 to 0.93640, saving model to best_classifier_model.keras\n",
      "\u001b[1m769/769\u001b[0m \u001b[32m━━━━━━━━━━━━━━━━━━━━\u001b[0m\u001b[37m\u001b[0m \u001b[1m2s\u001b[0m 3ms/step - accuracy: 0.9309 - loss: 0.1729 - val_accuracy: 0.9364 - val_loss: 0.1581 - learning_rate: 2.5000e-04\n",
      "Epoch 18/50\n",
      "\u001b[1m755/769\u001b[0m \u001b[32m━━━━━━━━━━━━━━━━━━━\u001b[0m\u001b[37m━\u001b[0m \u001b[1m0s\u001b[0m 3ms/step - accuracy: 0.9313 - loss: 0.1714\n",
      "Epoch 18: val_accuracy did not improve from 0.93640\n",
      "\u001b[1m769/769\u001b[0m \u001b[32m━━━━━━━━━━━━━━━━━━━━\u001b[0m\u001b[37m\u001b[0m \u001b[1m2s\u001b[0m 3ms/step - accuracy: 0.9313 - loss: 0.1714 - val_accuracy: 0.9357 - val_loss: 0.1576 - learning_rate: 2.5000e-04\n",
      "Epoch 19/50\n",
      "\u001b[1m761/769\u001b[0m \u001b[32m━━━━━━━━━━━━━━━━━━━\u001b[0m\u001b[37m━\u001b[0m \u001b[1m0s\u001b[0m 3ms/step - accuracy: 0.9317 - loss: 0.1708\n",
      "Epoch 19: val_accuracy improved from 0.93640 to 0.93660, saving model to best_classifier_model.keras\n",
      "\u001b[1m769/769\u001b[0m \u001b[32m━━━━━━━━━━━━━━━━━━━━\u001b[0m\u001b[37m\u001b[0m \u001b[1m3s\u001b[0m 3ms/step - accuracy: 0.9317 - loss: 0.1708 - val_accuracy: 0.9366 - val_loss: 0.1571 - learning_rate: 2.5000e-04\n",
      "Epoch 20/50\n",
      "\u001b[1m754/769\u001b[0m \u001b[32m━━━━━━━━━━━━━━━━━━━\u001b[0m\u001b[37m━\u001b[0m \u001b[1m0s\u001b[0m 3ms/step - accuracy: 0.9316 - loss: 0.1704\n",
      "Epoch 20: val_accuracy did not improve from 0.93660\n",
      "\u001b[1m769/769\u001b[0m \u001b[32m━━━━━━━━━━━━━━━━━━━━\u001b[0m\u001b[37m\u001b[0m \u001b[1m2s\u001b[0m 3ms/step - accuracy: 0.9316 - loss: 0.1703 - val_accuracy: 0.9355 - val_loss: 0.1600 - learning_rate: 2.5000e-04\n",
      "Epoch 21/50\n",
      "\u001b[1m767/769\u001b[0m \u001b[32m━━━━━━━━━━━━━━━━━━━\u001b[0m\u001b[37m━\u001b[0m \u001b[1m0s\u001b[0m 3ms/step - accuracy: 0.9317 - loss: 0.1701\n",
      "Epoch 21: val_accuracy did not improve from 0.93660\n",
      "\u001b[1m769/769\u001b[0m \u001b[32m━━━━━━━━━━━━━━━━━━━━\u001b[0m\u001b[37m\u001b[0m \u001b[1m2s\u001b[0m 3ms/step - accuracy: 0.9317 - loss: 0.1701 - val_accuracy: 0.9363 - val_loss: 0.1571 - learning_rate: 2.5000e-04\n",
      "Epoch 22/50\n",
      "\u001b[1m753/769\u001b[0m \u001b[32m━━━━━━━━━━━━━━━━━━━\u001b[0m\u001b[37m━\u001b[0m \u001b[1m0s\u001b[0m 3ms/step - accuracy: 0.9321 - loss: 0.1693\n",
      "Epoch 22: val_accuracy did not improve from 0.93660\n",
      "\n",
      "Epoch 22: ReduceLROnPlateau reducing learning rate to 0.0001250000059371814.\n",
      "\u001b[1m769/769\u001b[0m \u001b[32m━━━━━━━━━━━━━━━━━━━━\u001b[0m\u001b[37m\u001b[0m \u001b[1m2s\u001b[0m 3ms/step - accuracy: 0.9321 - loss: 0.1693 - val_accuracy: 0.9365 - val_loss: 0.1583 - learning_rate: 2.5000e-04\n",
      "Epoch 23/50\n",
      "\u001b[1m768/769\u001b[0m \u001b[32m━━━━━━━━━━━━━━━━━━━\u001b[0m\u001b[37m━\u001b[0m \u001b[1m0s\u001b[0m 3ms/step - accuracy: 0.9317 - loss: 0.1690\n",
      "Epoch 23: val_accuracy improved from 0.93660 to 0.93673, saving model to best_classifier_model.keras\n",
      "\u001b[1m769/769\u001b[0m \u001b[32m━━━━━━━━━━━━━━━━━━━━\u001b[0m\u001b[37m\u001b[0m \u001b[1m3s\u001b[0m 3ms/step - accuracy: 0.9317 - loss: 0.1690 - val_accuracy: 0.9367 - val_loss: 0.1555 - learning_rate: 1.2500e-04\n",
      "Epoch 24/50\n",
      "\u001b[1m766/769\u001b[0m \u001b[32m━━━━━━━━━━━━━━━━━━━\u001b[0m\u001b[37m━\u001b[0m \u001b[1m0s\u001b[0m 2ms/step - accuracy: 0.9323 - loss: 0.1679\n",
      "Epoch 24: val_accuracy did not improve from 0.93673\n",
      "\u001b[1m769/769\u001b[0m \u001b[32m━━━━━━━━━━━━━━━━━━━━\u001b[0m\u001b[37m\u001b[0m \u001b[1m2s\u001b[0m 3ms/step - accuracy: 0.9323 - loss: 0.1679 - val_accuracy: 0.9366 - val_loss: 0.1556 - learning_rate: 1.2500e-04\n",
      "Epoch 25/50\n",
      "\u001b[1m756/769\u001b[0m \u001b[32m━━━━━━━━━━━━━━━━━━━\u001b[0m\u001b[37m━\u001b[0m \u001b[1m0s\u001b[0m 3ms/step - accuracy: 0.9328 - loss: 0.1671\n",
      "Epoch 25: val_accuracy did not improve from 0.93673\n",
      "\u001b[1m769/769\u001b[0m \u001b[32m━━━━━━━━━━━━━━━━━━━━\u001b[0m\u001b[37m\u001b[0m \u001b[1m2s\u001b[0m 3ms/step - accuracy: 0.9328 - loss: 0.1671 - val_accuracy: 0.9366 - val_loss: 0.1562 - learning_rate: 1.2500e-04\n",
      "Epoch 26/50\n",
      "\u001b[1m758/769\u001b[0m \u001b[32m━━━━━━━━━━━━━━━━━━━\u001b[0m\u001b[37m━\u001b[0m \u001b[1m0s\u001b[0m 3ms/step - accuracy: 0.9326 - loss: 0.1680\n",
      "Epoch 26: val_accuracy improved from 0.93673 to 0.93701, saving model to best_classifier_model.keras\n",
      "\u001b[1m769/769\u001b[0m \u001b[32m━━━━━━━━━━━━━━━━━━━━\u001b[0m\u001b[37m\u001b[0m \u001b[1m2s\u001b[0m 3ms/step - accuracy: 0.9326 - loss: 0.1680 - val_accuracy: 0.9370 - val_loss: 0.1551 - learning_rate: 1.2500e-04\n",
      "Epoch 27/50\n",
      "\u001b[1m764/769\u001b[0m \u001b[32m━━━━━━━━━━━━━━━━━━━\u001b[0m\u001b[37m━\u001b[0m \u001b[1m0s\u001b[0m 3ms/step - accuracy: 0.9327 - loss: 0.1679\n",
      "Epoch 27: val_accuracy improved from 0.93701 to 0.93736, saving model to best_classifier_model.keras\n",
      "\u001b[1m769/769\u001b[0m \u001b[32m━━━━━━━━━━━━━━━━━━━━\u001b[0m\u001b[37m\u001b[0m \u001b[1m2s\u001b[0m 3ms/step - accuracy: 0.9327 - loss: 0.1679 - val_accuracy: 0.9374 - val_loss: 0.1547 - learning_rate: 1.2500e-04\n",
      "Epoch 28/50\n",
      "\u001b[1m758/769\u001b[0m \u001b[32m━━━━━━━━━━━━━━━━━━━\u001b[0m\u001b[37m━\u001b[0m \u001b[1m0s\u001b[0m 3ms/step - accuracy: 0.9322 - loss: 0.1670\n",
      "Epoch 28: val_accuracy did not improve from 0.93736\n",
      "\u001b[1m769/769\u001b[0m \u001b[32m━━━━━━━━━━━━━━━━━━━━\u001b[0m\u001b[37m\u001b[0m \u001b[1m2s\u001b[0m 3ms/step - accuracy: 0.9322 - loss: 0.1670 - val_accuracy: 0.9368 - val_loss: 0.1547 - learning_rate: 1.2500e-04\n",
      "Epoch 29/50\n",
      "\u001b[1m751/769\u001b[0m \u001b[32m━━━━━━━━━━━━━━━━━━━\u001b[0m\u001b[37m━\u001b[0m \u001b[1m0s\u001b[0m 2ms/step - accuracy: 0.9330 - loss: 0.1672\n",
      "Epoch 29: val_accuracy improved from 0.93736 to 0.93744, saving model to best_classifier_model.keras\n",
      "\u001b[1m769/769\u001b[0m \u001b[32m━━━━━━━━━━━━━━━━━━━━\u001b[0m\u001b[37m\u001b[0m \u001b[1m2s\u001b[0m 3ms/step - accuracy: 0.9329 - loss: 0.1672 - val_accuracy: 0.9374 - val_loss: 0.1544 - learning_rate: 1.2500e-04\n",
      "Epoch 30/50\n",
      "\u001b[1m766/769\u001b[0m \u001b[32m━━━━━━━━━━━━━━━━━━━\u001b[0m\u001b[37m━\u001b[0m \u001b[1m0s\u001b[0m 2ms/step - accuracy: 0.9331 - loss: 0.1676\n",
      "Epoch 30: val_accuracy did not improve from 0.93744\n",
      "\u001b[1m769/769\u001b[0m \u001b[32m━━━━━━━━━━━━━━━━━━━━\u001b[0m\u001b[37m\u001b[0m \u001b[1m2s\u001b[0m 3ms/step - accuracy: 0.9331 - loss: 0.1676 - val_accuracy: 0.9368 - val_loss: 0.1550 - learning_rate: 1.2500e-04\n",
      "Epoch 31/50\n",
      "\u001b[1m760/769\u001b[0m \u001b[32m━━━━━━━━━━━━━━━━━━━\u001b[0m\u001b[37m━\u001b[0m \u001b[1m0s\u001b[0m 2ms/step - accuracy: 0.9329 - loss: 0.1668\n",
      "Epoch 31: val_accuracy did not improve from 0.93744\n",
      "\u001b[1m769/769\u001b[0m \u001b[32m━━━━━━━━━━━━━━━━━━━━\u001b[0m\u001b[37m\u001b[0m \u001b[1m2s\u001b[0m 3ms/step - accuracy: 0.9329 - loss: 0.1668 - val_accuracy: 0.9371 - val_loss: 0.1543 - learning_rate: 1.2500e-04\n",
      "Epoch 32/50\n",
      "\u001b[1m751/769\u001b[0m \u001b[32m━━━━━━━━━━━━━━━━━━━\u001b[0m\u001b[37m━\u001b[0m \u001b[1m0s\u001b[0m 3ms/step - accuracy: 0.9332 - loss: 0.1668\n",
      "Epoch 32: val_accuracy did not improve from 0.93744\n",
      "\n",
      "Epoch 32: ReduceLROnPlateau reducing learning rate to 6.25000029685907e-05.\n",
      "\u001b[1m769/769\u001b[0m \u001b[32m━━━━━━━━━━━━━━━━━━━━\u001b[0m\u001b[37m\u001b[0m \u001b[1m2s\u001b[0m 3ms/step - accuracy: 0.9332 - loss: 0.1668 - val_accuracy: 0.9369 - val_loss: 0.1548 - learning_rate: 1.2500e-04\n",
      "Epoch 33/50\n",
      "\u001b[1m766/769\u001b[0m \u001b[32m━━━━━━━━━━━━━━━━━━━\u001b[0m\u001b[37m━\u001b[0m \u001b[1m0s\u001b[0m 2ms/step - accuracy: 0.9328 - loss: 0.1666\n",
      "Epoch 33: val_accuracy did not improve from 0.93744\n",
      "\u001b[1m769/769\u001b[0m \u001b[32m━━━━━━━━━━━━━━━━━━━━\u001b[0m\u001b[37m\u001b[0m \u001b[1m2s\u001b[0m 3ms/step - accuracy: 0.9328 - loss: 0.1666 - val_accuracy: 0.9372 - val_loss: 0.1544 - learning_rate: 6.2500e-05\n",
      "Epoch 34/50\n",
      "\u001b[1m755/769\u001b[0m \u001b[32m━━━━━━━━━━━━━━━━━━━\u001b[0m\u001b[37m━\u001b[0m \u001b[1m0s\u001b[0m 3ms/step - accuracy: 0.9336 - loss: 0.1657\n",
      "Epoch 34: val_accuracy did not improve from 0.93744\n",
      "\u001b[1m769/769\u001b[0m \u001b[32m━━━━━━━━━━━━━━━━━━━━\u001b[0m\u001b[37m\u001b[0m \u001b[1m2s\u001b[0m 3ms/step - accuracy: 0.9336 - loss: 0.1657 - val_accuracy: 0.9368 - val_loss: 0.1543 - learning_rate: 6.2500e-05\n",
      "Epoch 34: early stopping\n",
      "Restoring model weights from the end of the best epoch: 29.\n"
     ]
    }
   ],
   "source": [
    "# Cell: Fit DNN classifier\n",
    "history_classifier = classifier.fit(\n",
    "    X_train_attacks, y_train_attacks_onehot,\n",
    "    epochs=50,\n",
    "    batch_size=256,\n",
    "    validation_split=0.2,\n",
    "    callbacks=classifier_callbacks,\n",
    "    verbose=1\n",
    ")"
   ]
  },
  {
   "cell_type": "code",
   "execution_count": 52,
   "metadata": {
    "execution": {
     "iopub.execute_input": "2025-05-18T16:49:07.842036Z",
     "iopub.status.busy": "2025-05-18T16:49:07.841810Z",
     "iopub.status.idle": "2025-05-18T16:49:13.933745Z",
     "shell.execute_reply": "2025-05-18T16:49:13.932848Z",
     "shell.execute_reply.started": "2025-05-18T16:49:07.842019Z"
    },
    "trusted": true
   },
   "outputs": [
    {
     "name": "stdout",
     "output_type": "stream",
     "text": [
      "\n",
      "Evaluating DNN classifier...\n",
      "\u001b[1m2564/2564\u001b[0m \u001b[32m━━━━━━━━━━━━━━━━━━━━\u001b[0m\u001b[37m\u001b[0m \u001b[1m5s\u001b[0m 2ms/step\n",
      "DNN Classifier Performance:\n",
      "Accuracy: 0.9355\n",
      "Precision: 0.9186\n",
      "Recall: 0.9355\n",
      "F1 Score: 0.9231\n"
     ]
    },
    {
     "name": "stderr",
     "output_type": "stream",
     "text": [
      "/usr/local/lib/python3.11/dist-packages/sklearn/metrics/_classification.py:1344: UndefinedMetricWarning: Precision is ill-defined and being set to 0.0 in labels with no predicted samples. Use `zero_division` parameter to control this behavior.\n",
      "  _warn_prf(average, modifier, msg_start, len(result))\n"
     ]
    }
   ],
   "source": [
    "# Evaluate DNN classifier\n",
    "print(\"\\nEvaluating DNN classifier...\")\n",
    "y_pred_proba_dnn = classifier.predict(X_test_attacks)\n",
    "y_pred_dnn = np.argmax(y_pred_proba_dnn, axis=1)\n",
    "y_true = y_test_attacks\n",
    "\n",
    "accuracy_dnn = accuracy_score(y_true, y_pred_dnn)\n",
    "precision_dnn = precision_score(y_true, y_pred_dnn, average='weighted')\n",
    "recall_dnn = recall_score(y_true, y_pred_dnn, average='weighted')\n",
    "f1_dnn = f1_score(y_true, y_pred_dnn, average='weighted')\n",
    "\n",
    "print(f\"DNN Classifier Performance:\")\n",
    "print(f\"Accuracy: {accuracy_dnn:.4f}\")\n",
    "print(f\"Precision: {precision_dnn:.4f}\")\n",
    "print(f\"Recall: {recall_dnn:.4f}\")\n",
    "print(f\"F1 Score: {f1_dnn:.4f}\")\n"
   ]
  },
  {
   "cell_type": "code",
   "execution_count": 53,
   "metadata": {
    "execution": {
     "iopub.execute_input": "2025-05-18T16:49:13.934957Z",
     "iopub.status.busy": "2025-05-18T16:49:13.934689Z",
     "iopub.status.idle": "2025-05-18T16:49:14.997886Z",
     "shell.execute_reply": "2025-05-18T16:49:14.997073Z",
     "shell.execute_reply.started": "2025-05-18T16:49:13.934938Z"
    },
    "trusted": true
   },
   "outputs": [
    {
     "data": {
      "image/png": "[encoded data removed]",
      "text/plain": [
       "<Figure size 1400x1200 with 2 Axes>"
      ]
     },
     "metadata": {},
     "output_type": "display_data"
    }
   ],
   "source": [
    "# Cell: Create confusion matrices\n",
    "# Create confusion matrix for DNN\n",
    "cm_dnn = confusion_matrix(y_true, y_pred_dnn)\n",
    "plt.figure(figsize=(14, 12))\n",
    "sns.heatmap(cm_dnn, annot=True, fmt='d', cmap='Blues')\n",
    "plt.title('DNN Classifier Confusion Matrix')\n",
    "plt.xlabel('Predicted Label')\n",
    "plt.ylabel('True Label')\n",
    "plt.xticks(np.arange(len(label_encoder.classes_)) + 0.5, label_encoder.classes_, rotation=90)\n",
    "plt.yticks(np.arange(len(label_encoder.classes_)) + 0.5, label_encoder.classes_, rotation=0)\n",
    "plt.tight_layout()\n",
    "plt.savefig('confusion_matrix_dnn.png')\n",
    "plt.show()\n"
   ]
  },
  {
   "cell_type": "code",
   "execution_count": 54,
   "metadata": {
    "execution": {
     "iopub.execute_input": "2025-05-18T17:00:53.180716Z",
     "iopub.status.busy": "2025-05-18T17:00:53.180394Z",
     "iopub.status.idle": "2025-05-18T17:00:53.185220Z",
     "shell.execute_reply": "2025-05-18T17:00:53.184410Z",
     "shell.execute_reply.started": "2025-05-18T17:00:53.180692Z"
    },
    "trusted": true
   },
   "outputs": [],
   "source": [
    "import joblib\n",
    "import numpy as np\n",
    "import pandas as pd\n",
    "import tensorflow as tf\n",
    "from sklearn.preprocessing import MinMaxScaler, LabelEncoder"
   ]
  },
  {
   "cell_type": "code",
   "execution_count": 56,
   "metadata": {
    "execution": {
     "iopub.execute_input": "2025-05-18T17:03:52.219816Z",
     "iopub.status.busy": "2025-05-18T17:03:52.219241Z",
     "iopub.status.idle": "2025-05-18T17:03:52.392336Z",
     "shell.execute_reply": "2025-05-18T17:03:52.391554Z",
     "shell.execute_reply.started": "2025-05-18T17:03:52.219790Z"
    },
    "trusted": true
   },
   "outputs": [
    {
     "name": "stdout",
     "output_type": "stream",
     "text": [
      "All models and preprocessing components saved successfully!\n"
     ]
    }
   ],
   "source": [
    "\n",
    "# Save the scaler\n",
    "joblib.dump(scaler, 'scaler.joblib')\n",
    "\n",
    "# Save the label encoder\n",
    "joblib.dump(label_encoder, 'label_encoder.joblib')\n",
    "\n",
    "# Save the feature columns \n",
    "joblib.dump(feature_cols, 'feature_cols.joblib')\n",
    "\n",
    "# Save the anomaly threshold\n",
    "np.save('anomaly_threshold.npy', threshold)\n",
    "\n",
    "# Save the autoencoder model\n",
    "autoencoder.save('autoencoder_model.keras')\n",
    "\n",
    "# Save the classifier model\n",
    "classifier.save('classifier_model.keras')\n",
    "\n",
    "print(\"All models and preprocessing components saved successfully!\")"
   ]
  }
 ],
 "metadata": {
  "kaggle": {
   "accelerator": "nvidiaTeslaT4",
   "dataSources": [
    {
     "datasetId": 2398189,
     "sourceId": 4059918,
     "sourceType": "datasetVersion"
    }
   ],
   "dockerImageVersionId": 31041,
   "isGpuEnabled": true,
   "isInternetEnabled": true,
   "language": "python",
   "sourceType": "notebook"
  },
  "kernelspec": {
   "display_name": "Python 3",
   "language": "python",
   "name": "python3"
  },
  "language_info": {
   "codemirror_mode": {
    "name": "ipython",
    "version": 3
   },
   "file_extension": ".py",
   "mimetype": "text/x-python",
   "name": "python",
   "nbconvert_exporter": "python",
   "pygments_lexer": "ipython3",
   "version": "3.11.11"
  }
 },
 "nbformat": 4,
 "nbformat_minor": 4
}
